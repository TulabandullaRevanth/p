{
 "cells": [
  {
   "cell_type": "code",
   "execution_count": 16,
   "id": "76902304",
   "metadata": {},
   "outputs": [],
   "source": [
    "import pymongo"
   ]
  },
  {
   "cell_type": "code",
   "execution_count": 17,
   "id": "70a2ffd2",
   "metadata": {},
   "outputs": [],
   "source": [
    "from pymongo import MongoClient"
   ]
  },
  {
   "cell_type": "code",
   "execution_count": 18,
   "id": "47bcb0d3",
   "metadata": {},
   "outputs": [],
   "source": [
    "import pymongo\n",
    "# mongoclient = [\"localhost\"]\n",
    "myclient = pymongo.MongoClient(\"mongodb://localhost:27017/\")\n",
    "mydb = myclient[\"mydatabase\"]"
   ]
  },
  {
   "cell_type": "code",
   "execution_count": 19,
   "id": "88c4f909",
   "metadata": {},
   "outputs": [
    {
     "name": "stdout",
     "output_type": "stream",
     "text": [
      "['admin', 'config', 'local', 'schools_db']\n"
     ]
    }
   ],
   "source": [
    "print(myclient.list_database_names())"
   ]
  },
  {
   "cell_type": "code",
   "execution_count": 20,
   "id": "f2587608",
   "metadata": {},
   "outputs": [],
   "source": [
    "dblist = myclient.list_database_names()\n",
    "if \"mydatabase\" in dblist:\n",
    "    print(\"the database exist.\")"
   ]
  },
  {
   "cell_type": "code",
   "execution_count": 21,
   "id": "e669ced1",
   "metadata": {},
   "outputs": [],
   "source": [
    "mycol = mydb[\"customers\"]"
   ]
  },
  {
   "cell_type": "code",
   "execution_count": 22,
   "id": "97d70973",
   "metadata": {},
   "outputs": [],
   "source": [
    "collist = mydb.list_collection_names()\n",
    "if \"customers\" in collist:\n",
    "    print(\"The collection exist\")"
   ]
  },
  {
   "cell_type": "code",
   "execution_count": 23,
   "id": "fd9eeef3",
   "metadata": {},
   "outputs": [
    {
     "name": "stdout",
     "output_type": "stream",
     "text": [
      "[]\n"
     ]
    }
   ],
   "source": [
    "print(mydb.list_collection_names())"
   ]
  },
  {
   "cell_type": "code",
   "execution_count": 24,
   "id": "da568dc1",
   "metadata": {},
   "outputs": [],
   "source": [
    "mydict = {\"name\":\"john\",   \"address\":\n",
    "          \"Highway 37\"}\n",
    "x = mycol.insert_one(mydict)"
   ]
  },
  {
   "cell_type": "code",
   "execution_count": 25,
   "id": "d337168b",
   "metadata": {},
   "outputs": [
    {
     "name": "stdout",
     "output_type": "stream",
     "text": [
      "data inserted .....\n",
      "Collection(Database(MongoClient(host=['localhost:27017'], document_class=dict, tz_aware=False, connect=True), 'mydatabase'), 'customers.inserted_ids')\n"
     ]
    }
   ],
   "source": [
    "data = [{ \"_id\": \"101\", \"name\": \"Ram\" , \"age\":\"26\" , \"city\":\"Hyserabad\"},\n",
    "        { \"_id\": \"102\", \"name\": \"Robert\",\"age\":\"28\", \"city\":\"Mumbai\"}]\n",
    "res = mycol.insert_many(data)\n",
    "print(\"data inserted .....\")\n",
    "print(mycol.inserted_ids)"
   ]
  },
  {
   "cell_type": "code",
   "execution_count": 26,
   "id": "c337214d",
   "metadata": {},
   "outputs": [
    {
     "name": "stdout",
     "output_type": "stream",
     "text": [
      "['101', '102']\n"
     ]
    }
   ],
   "source": [
    "print(res.inserted_ids)"
   ]
  },
  {
   "cell_type": "code",
   "execution_count": 27,
   "id": "a716bfc3",
   "metadata": {},
   "outputs": [
    {
     "name": "stdout",
     "output_type": "stream",
     "text": [
      "First record of collection: \n",
      "{'_id': ObjectId('68c82e95da53b384550c7b39'), 'name': 'john', 'address': 'Highway 37'}\n"
     ]
    }
   ],
   "source": [
    "print(\"First record of collection: \")\n",
    "print(mycol.find_one())"
   ]
  },
  {
   "cell_type": "code",
   "execution_count": 28,
   "id": "b92da8ae",
   "metadata": {},
   "outputs": [
    {
     "name": "stdout",
     "output_type": "stream",
     "text": [
      "{'_id': ObjectId('68c82e95da53b384550c7b39'), 'name': 'john', 'address': 'Highway 37'}\n",
      "{'_id': '101', 'name': 'Ram', 'age': '26', 'city': 'Hyserabad'}\n",
      "{'_id': '102', 'name': 'Robert', 'age': '28', 'city': 'Mumbai'}\n"
     ]
    }
   ],
   "source": [
    "for doc1 in mycol.find():\n",
    "    print(doc1)"
   ]
  },
  {
   "cell_type": "code",
   "execution_count": 29,
   "id": "3de028b0",
   "metadata": {},
   "outputs": [
    {
     "name": "stdout",
     "output_type": "stream",
     "text": [
      "{'_id': '102', 'name': 'Robert', 'age': '28', 'city': 'Mumbai'}\n"
     ]
    }
   ],
   "source": [
    "\n",
    "for doc2 in mycol.find({\"age\":\n",
    "                        {\"$gt\":\"26\"}}):\n",
    "    print(doc2) "
   ]
  },
  {
   "cell_type": "code",
   "execution_count": 30,
   "id": "2bd189c3",
   "metadata": {},
   "outputs": [
    {
     "name": "stdout",
     "output_type": "stream",
     "text": [
      "{'_id': '102', 'name': 'Robert', 'age': '28', 'city': 'Mumbai'}\n",
      "{'_id': '101', 'name': 'Ram', 'age': '26', 'city': 'Hyserabad'}\n",
      "{'_id': ObjectId('68c82e95da53b384550c7b39'), 'name': 'john', 'address': 'Highway 37'}\n"
     ]
    }
   ],
   "source": [
    "for doc2 in mycol.find().sort(\"age\", -1):\n",
    "    print(doc2)"
   ]
  },
  {
   "cell_type": "code",
   "execution_count": 31,
   "id": "286df9d8",
   "metadata": {},
   "outputs": [
    {
     "data": {
      "text/plain": [
       "DeleteResult({'n': 1, 'ok': 1.0}, acknowledged=True)"
      ]
     },
     "execution_count": 31,
     "metadata": {},
     "output_type": "execute_result"
    }
   ],
   "source": [
    "mycol.delete_one({\"_id\": \"101\"})"
   ]
  },
  {
   "cell_type": "code",
   "execution_count": 32,
   "id": "16fdaa05",
   "metadata": {},
   "outputs": [
    {
     "name": "stdout",
     "output_type": "stream",
     "text": [
      "{'_id': ObjectId('68c82e95da53b384550c7b39'), 'name': 'john', 'address': 'Highway 37'}\n",
      "{'_id': '102', 'name': 'Robert', 'age': '28', 'city': 'Mumbai'}\n"
     ]
    }
   ],
   "source": [
    "for doc2 in mycol.find():\n",
    "    print(doc2)"
   ]
  },
  {
   "cell_type": "code",
   "execution_count": 33,
   "id": "e966ee7d",
   "metadata": {},
   "outputs": [
    {
     "data": {
      "text/plain": [
       "DeleteResult({'n': 1, 'ok': 1.0}, acknowledged=True)"
      ]
     },
     "execution_count": 33,
     "metadata": {},
     "output_type": "execute_result"
    }
   ],
   "source": [
    "mycol.delete_many({\"age\":{\"$gte\":\"26\"}})"
   ]
  },
  {
   "cell_type": "code",
   "execution_count": 34,
   "id": "7ad5a147",
   "metadata": {},
   "outputs": [],
   "source": [
    "mycol.drop()"
   ]
  },
  {
   "cell_type": "code",
   "execution_count": 35,
   "id": "0afd8027",
   "metadata": {},
   "outputs": [],
   "source": [
    "collections = mydb.list_collection_names()\n",
    "for coll in collections:\n",
    "    print(coll)"
   ]
  },
  {
   "cell_type": "code",
   "execution_count": 36,
   "id": "c8fecbf8",
   "metadata": {},
   "outputs": [
    {
     "data": {
      "text/plain": [
       "UpdateResult({'n': 0, 'nModified': 0, 'ok': 1.0, 'updatedExisting': False}, acknowledged=True)"
      ]
     },
     "execution_count": 36,
     "metadata": {},
     "output_type": "execute_result"
    }
   ],
   "source": [
    "mycol.update_one({\"_id\": \"102\"}, {\"$set\":{\"city\":\"vizag\"}})"
   ]
  },
  {
   "cell_type": "code",
   "execution_count": 37,
   "id": "a41eb9bf",
   "metadata": {},
   "outputs": [],
   "source": [
    "for doc2 in mycol.find().limit(3):\n",
    "    print(doc2)"
   ]
  },
  {
   "cell_type": "code",
   "execution_count": 83,
   "id": "8abfea51",
   "metadata": {},
   "outputs": [
    {
     "name": "stdout",
     "output_type": "stream",
     "text": [
      "Database created........\n",
      "List of databases after creating new one\n",
      "['admin', 'config', 'local', 'schools_db']\n"
     ]
    }
   ],
   "source": [
    "#1 . Write a Python program to connect to MySQL and print the list of all available databases. \n",
    "from pymongo import MongoClient\n",
    "client = MongoClient('localhost', 27017)\n",
    "db = client['schools_db']\n",
    "collection = client['schools_db']\n",
    "print(\"Database created........\")\n",
    "print(\"List of databases after creating new one\")\n",
    "print(client.list_database_names())"
   ]
  },
  {
   "cell_type": "code",
   "execution_count": 39,
   "id": "9a73e2af",
   "metadata": {},
   "outputs": [
    {
     "name": "stdout",
     "output_type": "stream",
     "text": [
      "collections created successfully\n",
      "list of collections: ['enrollments', 'students', 'courses']\n"
     ]
    },
    {
     "ename": "CollectionInvalid",
     "evalue": "collection students already exists",
     "output_type": "error",
     "traceback": [
      "\u001b[31m---------------------------------------------------------------------------\u001b[39m",
      "\u001b[31mCollectionInvalid\u001b[39m                         Traceback (most recent call last)",
      "\u001b[36mCell\u001b[39m\u001b[36m \u001b[39m\u001b[32mIn[39]\u001b[39m\u001b[32m, line 9\u001b[39m\n\u001b[32m      7\u001b[39m \u001b[38;5;28mprint\u001b[39m(\u001b[33m\"\u001b[39m\u001b[33mcollections created successfully\u001b[39m\u001b[33m\"\u001b[39m)\n\u001b[32m      8\u001b[39m \u001b[38;5;28mprint\u001b[39m(\u001b[33m\"\u001b[39m\u001b[33mlist of collections:\u001b[39m\u001b[33m\"\u001b[39m,db.list_collection_names())\n\u001b[32m----> \u001b[39m\u001b[32m9\u001b[39m \u001b[43mcreate_collections\u001b[49m\u001b[43m(\u001b[49m\u001b[43m)\u001b[49m\n",
      "\u001b[36mCell\u001b[39m\u001b[36m \u001b[39m\u001b[32mIn[39]\u001b[39m\u001b[32m, line 4\u001b[39m, in \u001b[36mcreate_collections\u001b[39m\u001b[34m()\u001b[39m\n\u001b[32m      2\u001b[39m \u001b[38;5;28;01mdef\u001b[39;00m\u001b[38;5;250m \u001b[39m\u001b[34mcreate_collections\u001b[39m():\n\u001b[32m----> \u001b[39m\u001b[32m4\u001b[39m     \u001b[43mdb\u001b[49m\u001b[43m.\u001b[49m\u001b[43mcreate_collection\u001b[49m\u001b[43m(\u001b[49m\u001b[33;43m\"\u001b[39;49m\u001b[33;43mstudents\u001b[39;49m\u001b[33;43m\"\u001b[39;49m\u001b[43m)\u001b[49m\n\u001b[32m      5\u001b[39m     db.create_collection(\u001b[33m\"\u001b[39m\u001b[33mcourses\u001b[39m\u001b[33m\"\u001b[39m)\n\u001b[32m      6\u001b[39m     db.create_collection(\u001b[33m\"\u001b[39m\u001b[33menrollments\u001b[39m\u001b[33m\"\u001b[39m)\n",
      "\u001b[36mFile \u001b[39m\u001b[32mc:\\Users\\16052\\AppData\\Local\\Programs\\Python\\Python313\\Lib\\site-packages\\pymongo\\_csot.py:125\u001b[39m, in \u001b[36mapply.<locals>.csot_wrapper\u001b[39m\u001b[34m(self, *args, **kwargs)\u001b[39m\n\u001b[32m    123\u001b[39m         \u001b[38;5;28;01mwith\u001b[39;00m _TimeoutContext(timeout):\n\u001b[32m    124\u001b[39m             \u001b[38;5;28;01mreturn\u001b[39;00m func(\u001b[38;5;28mself\u001b[39m, *args, **kwargs)\n\u001b[32m--> \u001b[39m\u001b[32m125\u001b[39m \u001b[38;5;28;01mreturn\u001b[39;00m \u001b[43mfunc\u001b[49m\u001b[43m(\u001b[49m\u001b[38;5;28;43mself\u001b[39;49m\u001b[43m,\u001b[49m\u001b[43m \u001b[49m\u001b[43m*\u001b[49m\u001b[43margs\u001b[49m\u001b[43m,\u001b[49m\u001b[43m \u001b[49m\u001b[43m*\u001b[49m\u001b[43m*\u001b[49m\u001b[43mkwargs\u001b[49m\u001b[43m)\u001b[49m\n",
      "\u001b[36mFile \u001b[39m\u001b[32mc:\\Users\\16052\\AppData\\Local\\Programs\\Python\\Python313\\Lib\\site-packages\\pymongo\\synchronous\\database.py:621\u001b[39m, in \u001b[36mDatabase.create_collection\u001b[39m\u001b[34m(self, name, codec_options, read_preference, write_concern, read_concern, session, check_exists, **kwargs)\u001b[39m\n\u001b[32m    613\u001b[39m \u001b[38;5;28;01mwith\u001b[39;00m \u001b[38;5;28mself\u001b[39m._client._tmp_session(session) \u001b[38;5;28;01mas\u001b[39;00m s:\n\u001b[32m    614\u001b[39m     \u001b[38;5;66;03m# Skip this check in a transaction where listCollections is not\u001b[39;00m\n\u001b[32m    615\u001b[39m     \u001b[38;5;66;03m# supported.\u001b[39;00m\n\u001b[32m    616\u001b[39m     \u001b[38;5;28;01mif\u001b[39;00m (\n\u001b[32m    617\u001b[39m         check_exists\n\u001b[32m    618\u001b[39m         \u001b[38;5;129;01mand\u001b[39;00m (\u001b[38;5;129;01mnot\u001b[39;00m s \u001b[38;5;129;01mor\u001b[39;00m \u001b[38;5;129;01mnot\u001b[39;00m s.in_transaction)\n\u001b[32m    619\u001b[39m         \u001b[38;5;129;01mand\u001b[39;00m name \u001b[38;5;129;01min\u001b[39;00m \u001b[38;5;28mself\u001b[39m._list_collection_names(\u001b[38;5;28mfilter\u001b[39m={\u001b[33m\"\u001b[39m\u001b[33mname\u001b[39m\u001b[33m\"\u001b[39m: name}, session=s)\n\u001b[32m    620\u001b[39m     ):\n\u001b[32m--> \u001b[39m\u001b[32m621\u001b[39m         \u001b[38;5;28;01mraise\u001b[39;00m CollectionInvalid(\u001b[33m\"\u001b[39m\u001b[33mcollection \u001b[39m\u001b[38;5;132;01m%s\u001b[39;00m\u001b[33m already exists\u001b[39m\u001b[33m\"\u001b[39m % name)\n\u001b[32m    622\u001b[39m     coll = Collection(\n\u001b[32m    623\u001b[39m         \u001b[38;5;28mself\u001b[39m,\n\u001b[32m    624\u001b[39m         name,\n\u001b[32m   (...)\u001b[39m\u001b[32m    629\u001b[39m         read_concern,\n\u001b[32m    630\u001b[39m     )\n\u001b[32m    631\u001b[39m     coll._create(kwargs, s)\n",
      "\u001b[31mCollectionInvalid\u001b[39m: collection students already exists"
     ]
    }
   ],
   "source": [
    "#2. Create a function in Python to create the tables (students, courses, enrollments) in school_db. \n",
    "def create_collections():\n",
    "\n",
    "    db.create_collection(\"students\")\n",
    "    db.create_collection(\"courses\")\n",
    "    db.create_collection(\"enrollments\")\n",
    "print(\"collections created successfully\")\n",
    "print(\"list of collections:\",db.list_collection_names())\n",
    "create_collections()"
   ]
  },
  {
   "cell_type": "code",
   "execution_count": null,
   "id": "c48c3ce7",
   "metadata": {},
   "outputs": [
    {
     "name": "stdout",
     "output_type": "stream",
     "text": [
      "CSV data uploaded successfully!\n"
     ]
    }
   ],
   "source": [
    "#3. Write a Python program to insert multiple students and courses into the respective tables using executemany().\n",
    "import pandas as pd\n",
    "df_s = db[\"students\"]\n",
    "students=pd.read_csv(\"./students.csv\")\n",
    "df_students = students.to_dict(orient=\"records\")\n",
    "df_s.insert_many(df_students)\n",
    "print(\"CSV data uploaded successfully!\")"
   ]
  },
  {
   "cell_type": "code",
   "execution_count": null,
   "id": "d02372fa",
   "metadata": {},
   "outputs": [
    {
     "name": "stdout",
     "output_type": "stream",
     "text": [
      " student_id     name  age grade                email\n",
      "          1    Zane1   18     C     zane1@school.edu\n",
      "          2     Uma2   23     A     uma2@outlook.com\n",
      "          3   Wendy3   22     B     wendy3@yahoo.com\n",
      "          4  Xander4   22     A  xander4@outlook.com\n",
      "          5  Victor5   19     A    victor5@gmail.com\n",
      "          6     Ian6   19     D     ian6@outlook.com\n",
      "          7     Leo7   22     A       leo7@gmail.com\n",
      "          8    Paul8   24     B    paul8@outlook.com\n",
      "          9   Wendy9   23     B    wendy9@school.edu\n",
      "         10    Leo10   23     A      leo10@yahoo.com\n",
      "         11    Uma11   18     C     uma11@school.edu\n",
      "         12   Rita12   18     B   rita12@outlook.com\n",
      "         13   Yara13   22     B     yara13@yahoo.com\n",
      "         14    Bob14   19     C    bob14@outlook.com\n",
      "         15 Quincy15   24     A  quincy15@school.edu\n",
      "         16   Tina16   19     A     tina16@yahoo.com\n",
      "         17  Alice17   25     B  alice17@outlook.com\n",
      "         18    Sam18   20     B      sam18@gmail.com\n",
      "         19   Paul19   23     A    paul19@school.edu\n",
      "         20 Victor20   19     D   victor20@gmail.com\n",
      "         21  Frank21   23     A   frank21@school.edu\n",
      "         22 Victor22   18     A   victor22@yahoo.com\n",
      "         23  Karen23   25     A    karen23@yahoo.com\n",
      "         24  Grace24   24     D    grace24@gmail.com\n",
      "         25 Quincy25   25     A  quincy25@school.edu\n",
      "         26   Mona26   20     D     mona26@gmail.com\n",
      "         27    Uma27   22     B     uma27@school.edu\n",
      "         28   Nina28   23     B     nina28@yahoo.com\n",
      "         29    Ian29   23     B     ian29@school.edu\n",
      "         30   Tina30   23     A   tina30@outlook.com\n",
      "         31   Nina31   22     B    nina31@school.edu\n",
      "         32 Hannah32   21     A  hannah32@school.edu\n",
      "         33  David33   25     D   david33@school.edu\n",
      "         34  Wendy34   22     B    wendy34@yahoo.com\n",
      "         35  Frank35   25     C    frank35@yahoo.com\n",
      "         36   Paul36   22     D   paul36@outlook.com\n",
      "         37    Ian37   21     D     ian37@school.edu\n",
      "         38   Paul38   20     C   paul38@outlook.com\n",
      "         39 Hannah39   18     A hannah39@outlook.com\n",
      "         40   Zane40   21     A     zane40@yahoo.com\n",
      "         41    Ian41   24     D    ian41@outlook.com\n",
      "         42 Quincy42   24     C   quincy42@gmail.com\n",
      "         43 Quincy43   25     D   quincy43@gmail.com\n",
      "         44   Tina44   19     C   tina44@outlook.com\n",
      "         45 Xander45   23     C   xander45@yahoo.com\n",
      "         46   Zane46   25     C     zane46@gmail.com\n",
      "         47    Eva47   19     D      eva47@yahoo.com\n",
      "         48    Leo48   22     B    leo48@outlook.com\n",
      "         49    Uma49   25     A     uma49@school.edu\n",
      "         50    Bob50   22     D      bob50@gmail.com\n",
      "         51  Karen51   18     A  karen51@outlook.com\n",
      "         52 Hannah52   23     A   hannah52@yahoo.com\n",
      "         53    Bob53   21     C    bob53@outlook.com\n",
      "         54    Leo54   18     C      leo54@yahoo.com\n",
      "         55   Yara55   22     A     yara55@yahoo.com\n",
      "         56    Eva56   19     C     eva56@school.edu\n",
      "         57   Nina57   21     B    nina57@school.edu\n",
      "         58    Eva58   20     A      eva58@yahoo.com\n",
      "         59  Oscar59   21     B    oscar59@yahoo.com\n",
      "         60   Yara60   18     B     yara60@gmail.com\n",
      "         61  Oscar61   23     D    oscar61@gmail.com\n",
      "         62   Rita62   23     C     rita62@gmail.com\n",
      "         63 Victor63   20     D   victor63@yahoo.com\n",
      "         64 Xander64   19     D   xander64@yahoo.com\n",
      "         65 Hannah65   22     D  hannah65@school.edu\n",
      "         66   Nina66   25     D    nina66@school.edu\n",
      "         67 Victor67   18     A victor67@outlook.com\n",
      "         68  Karen68   18     A   karen68@school.edu\n",
      "         69  Grace69   18     D    grace69@gmail.com\n",
      "         70   Jack70   24     A    jack70@school.edu\n",
      "         71   Nina71   23     B   nina71@outlook.com\n",
      "         72    Ian72   22     D      ian72@gmail.com\n",
      "         73  Grace73   19     A    grace73@yahoo.com\n",
      "         74  Grace74   24     C    grace74@gmail.com\n",
      "         75 Quincy75   23     D  quincy75@school.edu\n",
      "         76  Oscar76   19     D   oscar76@school.edu\n",
      "         77  Grace77   22     D  grace77@outlook.com\n",
      "         78    Ian78   22     D    ian78@outlook.com\n",
      "         79 Xander79   24     C xander79@outlook.com\n",
      "         80   Tina80   22     D     tina80@gmail.com\n",
      "         81  Wendy81   20     A   wendy81@school.edu\n",
      "         82  Karen82   23     B  karen82@outlook.com\n",
      "         83    Leo83   18     C    leo83@outlook.com\n",
      "         84    Bob84   18     A     bob84@school.edu\n",
      "         85   Rita85   18     A   rita85@outlook.com\n",
      "         86  Alice86   21     B  alice86@outlook.com\n",
      "         87    Sam87   19     C      sam87@yahoo.com\n",
      "         88  Wendy88   23     A    wendy88@yahoo.com\n",
      "         89   Tina89   21     C   tina89@outlook.com\n",
      "         90   Zane90   25     D     zane90@gmail.com\n",
      "         91   Tina91   21     D     tina91@yahoo.com\n",
      "         92  Wendy92   19     C    wendy92@gmail.com\n",
      "         93 Quincy93   19     A   quincy93@gmail.com\n",
      "         94    Eva94   24     C     eva94@school.edu\n",
      "         95   Tina95   25     D   tina95@outlook.com\n",
      "         96    Ian96   25     C     ian96@school.edu\n",
      "         97   Mona97   22     C     mona97@gmail.com\n",
      "         98    Leo98   25     A     leo98@school.edu\n",
      "         99    Bob99   23     C    bob99@outlook.com\n",
      "        100  Paul100   19     B  paul100@outlook.com\n"
     ]
    }
   ],
   "source": [
    "#4 . Fetch and print all rows from the students table in a tabular format. \n",
    "students = list(db[\"students\"].find({}, {\"_id\": 0}))  \n",
    "df = pd.DataFrame(students)\n",
    "print(df.to_string(index=False))"
   ]
  },
  {
   "cell_type": "code",
   "execution_count": null,
   "id": "33397663",
   "metadata": {},
   "outputs": [
    {
     "name": "stdout",
     "output_type": "stream",
     "text": [
      "1 record updated.\n"
     ]
    }
   ],
   "source": [
    "#5 .Write a program to update the grade of a student (given student_id) via a Python input prompt. \n",
    "student_id = int(input(\"Enter Student ID: \"))\n",
    "new_grade = input(\"Enter new grade: \")\n",
    "result = db.students.update_one({\"student_id\": student_id}, {\"$set\": {\"grade\": new_grade}})\n",
    "print(result.modified_count, \"record updated.\")"
   ]
  },
  {
   "cell_type": "code",
   "execution_count": null,
   "id": "87065b48",
   "metadata": {},
   "outputs": [
    {
     "name": "stdout",
     "output_type": "stream",
     "text": [
      "Student with ID 1 deleted successfully!\n"
     ]
    }
   ],
   "source": [
    "#6 .Delete a student from the students table using Python input for student_id. \n",
    "student_id = int(input(\"Enter Student ID to delete: \"))\n",
    "result = students.delete_one({\"student_id\": student_id})\n",
    "if result.deleted_count > 0:\n",
    "    print(f\"Student with ID {student_id} deleted successfully!\")\n",
    "else:\n",
    "    print(\"Student not found.\")"
   ]
  },
  {
   "cell_type": "code",
   "execution_count": 46,
   "id": "2934c9ae",
   "metadata": {},
   "outputs": [
    {
     "name": "stdout",
     "output_type": "stream",
     "text": [
      "Error: Student or Course does not exist (foreign key check failed).\n"
     ]
    }
   ],
   "source": [
    "# 7.Write a Python script to insert enrollment records linking students with their courses, ensuring foreign key integrity. \n",
    "db = MongoClient()[\"schools_db\"]\n",
    "df_s = db[\"students\"]      \n",
    "df_c = db[\"courses\"]      \n",
    "df_e = db[\"enrollments\"]   \n",
    "\n",
    "student_id = int(input(\"Enter Student ID: \"))\n",
    "course_id = int(input(\"Enter Course ID: \"))\n",
    "\n",
    "student = df_s.find_one({\"student_id\": student_id})\n",
    "course = df_c.find_one({\"course_id\": course_id})\n",
    "\n",
    "if student and course:\n",
    "    df_e.insert_one({\n",
    "        \"student_id\": student_id,\n",
    "        \"course_id\": course_id\n",
    "    })\n",
    "    print(\"Enrollment added successfully!\")\n",
    "else:\n",
    "    print(\"Error: Student or Course does not exist (foreign key check failed).\")\n"
   ]
  },
  {
   "cell_type": "code",
   "execution_count": 60,
   "id": "592d626b",
   "metadata": {},
   "outputs": [
    {
     "data": {
      "text/plain": [
       "InsertManyResult([ObjectId('68c8317cda53b384550c8697'), ObjectId('68c8317cda53b384550c8698'), ObjectId('68c8317cda53b384550c8699'), ObjectId('68c8317cda53b384550c869a'), ObjectId('68c8317cda53b384550c869b'), ObjectId('68c8317cda53b384550c869c'), ObjectId('68c8317cda53b384550c869d'), ObjectId('68c8317cda53b384550c869e'), ObjectId('68c8317cda53b384550c869f'), ObjectId('68c8317cda53b384550c86a0'), ObjectId('68c8317cda53b384550c86a1'), ObjectId('68c8317cda53b384550c86a2'), ObjectId('68c8317cda53b384550c86a3'), ObjectId('68c8317cda53b384550c86a4'), ObjectId('68c8317cda53b384550c86a5'), ObjectId('68c8317cda53b384550c86a6'), ObjectId('68c8317cda53b384550c86a7'), ObjectId('68c8317cda53b384550c86a8'), ObjectId('68c8317cda53b384550c86a9'), ObjectId('68c8317cda53b384550c86aa'), ObjectId('68c8317cda53b384550c86ab'), ObjectId('68c8317cda53b384550c86ac'), ObjectId('68c8317cda53b384550c86ad'), ObjectId('68c8317cda53b384550c86ae'), ObjectId('68c8317cda53b384550c86af'), ObjectId('68c8317cda53b384550c86b0'), ObjectId('68c8317cda53b384550c86b1'), ObjectId('68c8317cda53b384550c86b2'), ObjectId('68c8317cda53b384550c86b3'), ObjectId('68c8317cda53b384550c86b4'), ObjectId('68c8317cda53b384550c86b5'), ObjectId('68c8317cda53b384550c86b6'), ObjectId('68c8317cda53b384550c86b7'), ObjectId('68c8317cda53b384550c86b8'), ObjectId('68c8317cda53b384550c86b9'), ObjectId('68c8317cda53b384550c86ba'), ObjectId('68c8317cda53b384550c86bb'), ObjectId('68c8317cda53b384550c86bc'), ObjectId('68c8317cda53b384550c86bd'), ObjectId('68c8317cda53b384550c86be'), ObjectId('68c8317cda53b384550c86bf'), ObjectId('68c8317cda53b384550c86c0'), ObjectId('68c8317cda53b384550c86c1'), ObjectId('68c8317cda53b384550c86c2'), ObjectId('68c8317cda53b384550c86c3'), ObjectId('68c8317cda53b384550c86c4'), ObjectId('68c8317cda53b384550c86c5'), ObjectId('68c8317cda53b384550c86c6'), ObjectId('68c8317cda53b384550c86c7'), ObjectId('68c8317cda53b384550c86c8'), ObjectId('68c8317cda53b384550c86c9'), ObjectId('68c8317cda53b384550c86ca'), ObjectId('68c8317cda53b384550c86cb'), ObjectId('68c8317cda53b384550c86cc'), ObjectId('68c8317cda53b384550c86cd'), ObjectId('68c8317cda53b384550c86ce'), ObjectId('68c8317cda53b384550c86cf'), ObjectId('68c8317cda53b384550c86d0'), ObjectId('68c8317cda53b384550c86d1'), ObjectId('68c8317cda53b384550c86d2'), ObjectId('68c8317cda53b384550c86d3'), ObjectId('68c8317cda53b384550c86d4'), ObjectId('68c8317cda53b384550c86d5'), ObjectId('68c8317cda53b384550c86d6'), ObjectId('68c8317cda53b384550c86d7'), ObjectId('68c8317cda53b384550c86d8'), ObjectId('68c8317cda53b384550c86d9'), ObjectId('68c8317cda53b384550c86da'), ObjectId('68c8317cda53b384550c86db'), ObjectId('68c8317cda53b384550c86dc'), ObjectId('68c8317cda53b384550c86dd'), ObjectId('68c8317cda53b384550c86de'), ObjectId('68c8317cda53b384550c86df'), ObjectId('68c8317cda53b384550c86e0'), ObjectId('68c8317cda53b384550c86e1'), ObjectId('68c8317cda53b384550c86e2'), ObjectId('68c8317cda53b384550c86e3'), ObjectId('68c8317cda53b384550c86e4'), ObjectId('68c8317cda53b384550c86e5'), ObjectId('68c8317cda53b384550c86e6'), ObjectId('68c8317cda53b384550c86e7'), ObjectId('68c8317cda53b384550c86e8'), ObjectId('68c8317cda53b384550c86e9'), ObjectId('68c8317cda53b384550c86ea'), ObjectId('68c8317cda53b384550c86eb'), ObjectId('68c8317cda53b384550c86ec'), ObjectId('68c8317cda53b384550c86ed'), ObjectId('68c8317cda53b384550c86ee'), ObjectId('68c8317cda53b384550c86ef'), ObjectId('68c8317cda53b384550c86f0'), ObjectId('68c8317cda53b384550c86f1'), ObjectId('68c8317cda53b384550c86f2'), ObjectId('68c8317cda53b384550c86f3'), ObjectId('68c8317cda53b384550c86f4'), ObjectId('68c8317cda53b384550c86f5'), ObjectId('68c8317cda53b384550c86f6'), ObjectId('68c8317cda53b384550c86f7'), ObjectId('68c8317cda53b384550c86f8'), ObjectId('68c8317cda53b384550c86f9'), ObjectId('68c8317cda53b384550c86fa'), ObjectId('68c8317cda53b384550c86fb'), ObjectId('68c8317cda53b384550c86fc'), ObjectId('68c8317cda53b384550c86fd'), ObjectId('68c8317cda53b384550c86fe'), ObjectId('68c8317cda53b384550c86ff'), ObjectId('68c8317cda53b384550c8700'), ObjectId('68c8317cda53b384550c8701'), ObjectId('68c8317cda53b384550c8702'), ObjectId('68c8317cda53b384550c8703'), ObjectId('68c8317cda53b384550c8704'), ObjectId('68c8317cda53b384550c8705'), ObjectId('68c8317cda53b384550c8706'), ObjectId('68c8317cda53b384550c8707'), ObjectId('68c8317cda53b384550c8708'), ObjectId('68c8317cda53b384550c8709'), ObjectId('68c8317cda53b384550c870a'), ObjectId('68c8317cda53b384550c870b'), ObjectId('68c8317cda53b384550c870c'), ObjectId('68c8317cda53b384550c870d'), ObjectId('68c8317cda53b384550c870e'), ObjectId('68c8317cda53b384550c870f'), ObjectId('68c8317cda53b384550c8710'), ObjectId('68c8317cda53b384550c8711'), ObjectId('68c8317cda53b384550c8712'), ObjectId('68c8317cda53b384550c8713'), ObjectId('68c8317cda53b384550c8714'), ObjectId('68c8317cda53b384550c8715'), ObjectId('68c8317cda53b384550c8716'), ObjectId('68c8317cda53b384550c8717'), ObjectId('68c8317cda53b384550c8718'), ObjectId('68c8317cda53b384550c8719'), ObjectId('68c8317cda53b384550c871a'), ObjectId('68c8317cda53b384550c871b'), ObjectId('68c8317cda53b384550c871c'), ObjectId('68c8317cda53b384550c871d'), ObjectId('68c8317cda53b384550c871e'), ObjectId('68c8317cda53b384550c871f'), ObjectId('68c8317cda53b384550c8720'), ObjectId('68c8317cda53b384550c8721'), ObjectId('68c8317cda53b384550c8722'), ObjectId('68c8317cda53b384550c8723'), ObjectId('68c8317cda53b384550c8724'), ObjectId('68c8317cda53b384550c8725'), ObjectId('68c8317cda53b384550c8726'), ObjectId('68c8317cda53b384550c8727'), ObjectId('68c8317cda53b384550c8728'), ObjectId('68c8317cda53b384550c8729'), ObjectId('68c8317cda53b384550c872a'), ObjectId('68c8317cda53b384550c872b'), ObjectId('68c8317cda53b384550c872c'), ObjectId('68c8317cda53b384550c872d'), ObjectId('68c8317cda53b384550c872e'), ObjectId('68c8317cda53b384550c872f'), ObjectId('68c8317cda53b384550c8730'), ObjectId('68c8317cda53b384550c8731'), ObjectId('68c8317cda53b384550c8732'), ObjectId('68c8317cda53b384550c8733'), ObjectId('68c8317cda53b384550c8734'), ObjectId('68c8317cda53b384550c8735'), ObjectId('68c8317cda53b384550c8736'), ObjectId('68c8317cda53b384550c8737'), ObjectId('68c8317cda53b384550c8738'), ObjectId('68c8317cda53b384550c8739'), ObjectId('68c8317cda53b384550c873a'), ObjectId('68c8317cda53b384550c873b'), ObjectId('68c8317cda53b384550c873c'), ObjectId('68c8317cda53b384550c873d'), ObjectId('68c8317cda53b384550c873e'), ObjectId('68c8317cda53b384550c873f'), ObjectId('68c8317cda53b384550c8740'), ObjectId('68c8317cda53b384550c8741'), ObjectId('68c8317cda53b384550c8742'), ObjectId('68c8317cda53b384550c8743'), ObjectId('68c8317cda53b384550c8744'), ObjectId('68c8317cda53b384550c8745'), ObjectId('68c8317cda53b384550c8746'), ObjectId('68c8317cda53b384550c8747'), ObjectId('68c8317cda53b384550c8748'), ObjectId('68c8317cda53b384550c8749'), ObjectId('68c8317cda53b384550c874a'), ObjectId('68c8317cda53b384550c874b'), ObjectId('68c8317cda53b384550c874c'), ObjectId('68c8317cda53b384550c874d'), ObjectId('68c8317cda53b384550c874e'), ObjectId('68c8317cda53b384550c874f'), ObjectId('68c8317cda53b384550c8750'), ObjectId('68c8317cda53b384550c8751'), ObjectId('68c8317cda53b384550c8752'), ObjectId('68c8317cda53b384550c8753'), ObjectId('68c8317cda53b384550c8754'), ObjectId('68c8317cda53b384550c8755'), ObjectId('68c8317cda53b384550c8756'), ObjectId('68c8317cda53b384550c8757'), ObjectId('68c8317cda53b384550c8758'), ObjectId('68c8317cda53b384550c8759'), ObjectId('68c8317cda53b384550c875a'), ObjectId('68c8317cda53b384550c875b'), ObjectId('68c8317cda53b384550c875c'), ObjectId('68c8317cda53b384550c875d')], acknowledged=True)"
      ]
     },
     "execution_count": 60,
     "metadata": {},
     "output_type": "execute_result"
    }
   ],
   "source": [
    "#8 .Fetch all students enrolled in a particular course (given course_id as input).\n",
    "import pandas as pd\n",
    "\n",
    "db = MongoClient()[\"schools_db\"]\n",
    "courses_df = pd.read_csv(\"courses.csv\")\n",
    "students_df = pd.read_csv(\"students.csv\")\n",
    "enroll_df = pd.read_csv(\"enrollments.csv\")\n",
    "courses_df = courses_df.astype({\"course_id\": int})\n",
    "students_df = students_df.astype({\"student_id\": int})\n",
    "enroll_df = enroll_df.astype({\"student_id\": int, \"course_id\": int})\n",
    "db.courses.delete_many({})\n",
    "db.students.delete_many({})\n",
    "db.enrollments.delete_many({})\n",
    "db.courses.insert_many(courses_df.to_dict(\"records\"))\n",
    "db.students.insert_many(students_df.to_dict(\"records\"))\n",
    "db.enrollments.insert_many(enroll_df.to_dict(\"records\"))"
   ]
  },
  {
   "cell_type": "code",
   "execution_count": 65,
   "id": "047eb4bc",
   "metadata": {},
   "outputs": [],
   "source": [
    "#9..Write a program to display students who are not enrolled in any course.\n",
    "from pymongo import MongoClient\n",
    " \n",
    "client = MongoClient(\"mongodb://localhost:27017/\")\n",
    "db = client[\"schools_db\"]\n",
    " \n",
    "students = db.students\n",
    "enrollments = db.enrollments\n",
    " \n",
    " \n",
    "enrolled_ids = enrollments.distinct(\"student_id\")\n",
    " \n",
    "not_enrolled = students.find(\n",
    "    {\"student_id\": {\"$nin\": enrolled_ids}},\n",
    "    {\"_id\": 0, \"student_id\": 1, \"name\": 1}\n",
    ")\n",
    " \n",
    "for s in not_enrolled:\n",
    "    print(s)"
   ]
  },
  {
   "cell_type": "code",
   "execution_count": 66,
   "id": "cebe440b",
   "metadata": {},
   "outputs": [
    {
     "name": "stdout",
     "output_type": "stream",
     "text": [
      "Student Name -> Course Name\n",
      "Zane1 -> Statistics\n",
      "Uma2 -> Economics\n",
      "Wendy3 -> English Literature\n",
      "Xander4 -> Statistics\n",
      "Victor5 -> Statistics\n",
      "Victor5 -> Chemistry\n",
      "Victor5 -> Economics\n",
      "Ian6 -> Computer Science\n",
      "Ian6 -> Biology\n",
      "Ian6 -> History\n",
      "Leo7 -> Mathematics\n",
      "Paul8 -> Philosophy\n",
      "Wendy9 -> Philosophy\n",
      "Leo10 -> Computer Science\n",
      "Leo10 -> Chemistry\n",
      "Leo10 -> Mathematics\n",
      "Uma11 -> Chemistry\n",
      "Uma11 -> Economics\n",
      "Uma11 -> English Literature\n",
      "Rita12 -> Statistics\n",
      "Yara13 -> Physics\n",
      "Yara13 -> Philosophy\n",
      "Yara13 -> Statistics\n",
      "Bob14 -> Chemistry\n",
      "Bob14 -> Mathematics\n",
      "Quincy15 -> English Literature\n",
      "Quincy15 -> History\n",
      "Quincy15 -> Physics\n",
      "Tina16 -> Economics\n",
      "Tina16 -> Biology\n",
      "Tina16 -> Mathematics\n",
      "Alice17 -> Economics\n",
      "Alice17 -> Mathematics\n",
      "Alice17 -> Computer Science\n",
      "Sam18 -> Chemistry\n",
      "Paul19 -> Philosophy\n",
      "Paul19 -> Mathematics\n",
      "Victor20 -> English Literature\n",
      "Victor20 -> Biology\n",
      "Victor20 -> Statistics\n",
      "Frank21 -> Computer Science\n",
      "Frank21 -> Economics\n",
      "Victor22 -> Chemistry\n",
      "Victor22 -> Statistics\n",
      "Victor22 -> Philosophy\n",
      "Karen23 -> History\n",
      "Grace24 -> Computer Science\n",
      "Grace24 -> English Literature\n",
      "Quincy25 -> Philosophy\n",
      "Mona26 -> Philosophy\n",
      "Mona26 -> English Literature\n",
      "Mona26 -> Mathematics\n",
      "Uma27 -> Economics\n",
      "Nina28 -> Chemistry\n",
      "Nina28 -> Mathematics\n",
      "Ian29 -> History\n",
      "Ian29 -> Chemistry\n",
      "Tina30 -> Chemistry\n",
      "Tina30 -> Economics\n",
      "Tina30 -> Mathematics\n",
      "Nina31 -> Biology\n",
      "Nina31 -> Philosophy\n",
      "Nina31 -> Chemistry\n",
      "Hannah32 -> Biology\n",
      "Hannah32 -> Philosophy\n",
      "David33 -> History\n",
      "David33 -> Biology\n",
      "Wendy34 -> Chemistry\n",
      "Wendy34 -> English Literature\n",
      "Frank35 -> Computer Science\n",
      "Paul36 -> Economics\n",
      "Paul36 -> Biology\n",
      "Ian37 -> Physics\n",
      "Ian37 -> Economics\n",
      "Paul38 -> Biology\n",
      "Hannah39 -> Economics\n",
      "Zane40 -> Biology\n",
      "Ian41 -> Statistics\n",
      "Ian41 -> Chemistry\n",
      "Quincy42 -> Statistics\n",
      "Quincy42 -> History\n",
      "Quincy42 -> Computer Science\n",
      "Quincy43 -> Physics\n",
      "Tina44 -> Philosophy\n",
      "Xander45 -> Economics\n",
      "Xander45 -> History\n",
      "Xander45 -> Statistics\n",
      "Zane46 -> Mathematics\n",
      "Zane46 -> Statistics\n",
      "Zane46 -> History\n",
      "Eva47 -> Physics\n",
      "Leo48 -> Mathematics\n",
      "Leo48 -> Biology\n",
      "Leo48 -> Statistics\n",
      "Uma49 -> Biology\n",
      "Uma49 -> Computer Science\n",
      "Bob50 -> Computer Science\n",
      "Karen51 -> Computer Science\n",
      "Karen51 -> English Literature\n",
      "Karen51 -> Biology\n",
      "Hannah52 -> Physics\n",
      "Hannah52 -> Chemistry\n",
      "Bob53 -> Physics\n",
      "Bob53 -> History\n",
      "Bob53 -> Biology\n",
      "Leo54 -> Chemistry\n",
      "Leo54 -> Philosophy\n",
      "Leo54 -> History\n",
      "Yara55 -> Economics\n",
      "Yara55 -> Statistics\n",
      "Yara55 -> Philosophy\n",
      "Eva56 -> Economics\n",
      "Nina57 -> Physics\n",
      "Nina57 -> Computer Science\n",
      "Nina57 -> History\n",
      "Eva58 -> Mathematics\n",
      "Oscar59 -> Philosophy\n",
      "Oscar59 -> English Literature\n",
      "Oscar59 -> Statistics\n",
      "Yara60 -> Physics\n",
      "Yara60 -> Biology\n",
      "Oscar61 -> Mathematics\n",
      "Rita62 -> Mathematics\n",
      "Victor63 -> History\n",
      "Xander64 -> Chemistry\n",
      "Xander64 -> Philosophy\n",
      "Xander64 -> Biology\n",
      "Hannah65 -> Chemistry\n",
      "Nina66 -> Chemistry\n",
      "Nina66 -> Biology\n",
      "Nina66 -> Economics\n",
      "Victor67 -> Computer Science\n",
      "Karen68 -> Chemistry\n",
      "Grace69 -> Economics\n",
      "Grace69 -> English Literature\n",
      "Grace69 -> Chemistry\n",
      "Jack70 -> Computer Science\n",
      "Jack70 -> Statistics\n",
      "Nina71 -> History\n",
      "Nina71 -> Mathematics\n",
      "Ian72 -> Chemistry\n",
      "Ian72 -> Computer Science\n",
      "Ian72 -> Philosophy\n",
      "Grace73 -> Computer Science\n",
      "Grace73 -> Statistics\n",
      "Grace74 -> Economics\n",
      "Grace74 -> Mathematics\n",
      "Grace74 -> Computer Science\n",
      "Quincy75 -> Physics\n",
      "Quincy75 -> History\n",
      "Oscar76 -> Computer Science\n",
      "Oscar76 -> English Literature\n",
      "Oscar76 -> Philosophy\n",
      "Grace77 -> Biology\n",
      "Grace77 -> Economics\n",
      "Grace77 -> Mathematics\n",
      "Ian78 -> Physics\n",
      "Ian78 -> Philosophy\n",
      "Ian78 -> Statistics\n",
      "Xander79 -> Chemistry\n",
      "Xander79 -> History\n",
      "Tina80 -> History\n",
      "Wendy81 -> Mathematics\n",
      "Wendy81 -> History\n",
      "Wendy81 -> Economics\n",
      "Karen82 -> Chemistry\n",
      "Leo83 -> Philosophy\n",
      "Leo83 -> Chemistry\n",
      "Leo83 -> Physics\n",
      "Bob84 -> History\n",
      "Bob84 -> Chemistry\n",
      "Rita85 -> Computer Science\n",
      "Alice86 -> Chemistry\n",
      "Sam87 -> Statistics\n",
      "Sam87 -> Philosophy\n",
      "Sam87 -> English Literature\n",
      "Wendy88 -> History\n",
      "Tina89 -> Mathematics\n",
      "Zane90 -> Physics\n",
      "Tina91 -> Biology\n",
      "Tina91 -> Mathematics\n",
      "Tina91 -> Physics\n",
      "Wendy92 -> Computer Science\n",
      "Wendy92 -> Mathematics\n",
      "Wendy92 -> English Literature\n",
      "Quincy93 -> Computer Science\n",
      "Quincy93 -> Chemistry\n",
      "Eva94 -> Economics\n",
      "Eva94 -> Statistics\n",
      "Tina95 -> Chemistry\n",
      "Ian96 -> Philosophy\n",
      "Ian96 -> History\n",
      "Ian96 -> Physics\n",
      "Mona97 -> History\n",
      "Leo98 -> Philosophy\n",
      "Leo98 -> Chemistry\n",
      "Bob99 -> Computer Science\n",
      "Bob99 -> Physics\n",
      "Paul100 -> Philosophy\n"
     ]
    }
   ],
   "source": [
    "#10. . Perform an INNER JOIN between students and courses using Python to show student names along with the courses they are enrolled in.\n",
    "course = [\n",
    "    {\"$lookup\": {\n",
    "        \"from\": \"enrollments\",\n",
    "        \"localField\": \"student_id\",\n",
    "        \"foreignField\": \"student_id\",\n",
    "        \"as\": \"enrollments\"\n",
    "    }},\n",
    "    {\"$unwind\": \"$enrollments\"}, \n",
    "    \n",
    "    # Join with courses\n",
    "    {\"$lookup\": {\n",
    "        \"from\": \"courses\",\n",
    "        \"localField\": \"enrollments.course_id\",\n",
    "        \"foreignField\": \"course_id\",\n",
    "        \"as\": \"course_info\"\n",
    "    }},\n",
    "    {\"$unwind\": \"$course_info\"},  \n",
    "\n",
    "    {\"$project\": {\n",
    "        \"_id\": 0,\n",
    "        \"Student Name\": \"$name\",\n",
    "        \"Course Name\": \"$course_info.course_name\"\n",
    "    }}\n",
    "]\n",
    "results = db.students.aggregate(course)\n",
    "print(\"Student Name -> Course Name\")\n",
    "for r in results:\n",
    "    print(f\"{r['Student Name']} -> {r['Course Name']}\")"
   ]
  },
  {
   "cell_type": "code",
   "execution_count": null,
   "id": "4c649164",
   "metadata": {},
   "outputs": [
    {
     "name": "stdout",
     "output_type": "stream",
     "text": [
      "\n",
      "Search results:\n",
      "\n",
      "ID: 1 | Name: Zane1 | Age: 18 | Grade: C | Email: zane1@school.edu\n",
      "ID: 10 | Name: Leo10 | Age: 23 | Grade: A | Email: leo10@yahoo.com\n",
      "ID: 11 | Name: Uma11 | Age: 18 | Grade: C | Email: uma11@school.edu\n",
      "ID: 12 | Name: Rita12 | Age: 18 | Grade: B | Email: rita12@outlook.com\n",
      "ID: 13 | Name: Yara13 | Age: 22 | Grade: B | Email: yara13@yahoo.com\n",
      "ID: 14 | Name: Bob14 | Age: 19 | Grade: C | Email: bob14@outlook.com\n",
      "ID: 15 | Name: Quincy15 | Age: 24 | Grade: A | Email: quincy15@school.edu\n",
      "ID: 16 | Name: Tina16 | Age: 19 | Grade: A | Email: tina16@yahoo.com\n",
      "ID: 17 | Name: Alice17 | Age: 25 | Grade: B | Email: alice17@outlook.com\n",
      "ID: 18 | Name: Sam18 | Age: 20 | Grade: B | Email: sam18@gmail.com\n",
      "ID: 19 | Name: Paul19 | Age: 23 | Grade: A | Email: paul19@school.edu\n",
      "ID: 21 | Name: Frank21 | Age: 23 | Grade: A | Email: frank21@school.edu\n",
      "ID: 31 | Name: Nina31 | Age: 22 | Grade: B | Email: nina31@school.edu\n",
      "ID: 41 | Name: Ian41 | Age: 24 | Grade: D | Email: ian41@outlook.com\n",
      "ID: 51 | Name: Karen51 | Age: 18 | Grade: A | Email: karen51@outlook.com\n",
      "ID: 61 | Name: Oscar61 | Age: 23 | Grade: D | Email: oscar61@gmail.com\n",
      "ID: 71 | Name: Nina71 | Age: 23 | Grade: B | Email: nina71@outlook.com\n",
      "ID: 81 | Name: Wendy81 | Age: 20 | Grade: A | Email: wendy81@school.edu\n",
      "ID: 91 | Name: Tina91 | Age: 21 | Grade: D | Email: tina91@yahoo.com\n",
      "ID: 100 | Name: Paul100 | Age: 19 | Grade: B | Email: paul100@outlook.com\n"
     ]
    }
   ],
   "source": [
    "#11. Write a Python function to search for a student by name (partial matches allowed using LIKE).\n",
    "partial_name = input(\"Enter student name (partial search): \")\n",
    "query = {\"name\": {\"$regex\": partial_name, \"$options\": \"i\"}}\n",
    "students = db.students.find(query, {\"_id\": 0})\n",
    "found = False\n",
    "print(\"\\nSearch results:\\n\")\n",
    "for student in students:\n",
    "    found = True\n",
    "    print(\"ID:\", student.get(\"student_id\"),\n",
    "          \"| Name:\", student.get(\"name\"),\n",
    "          \"| Age:\", student.get(\"age\"),\n",
    "          \"| Grade:\", student.get(\"grade\"),\n",
    "          \"| Email:\", student.get(\"email\"))\n",
    "if not found:\n",
    "    print(\"No matching student found.\")"
   ]
  },
  {
   "cell_type": "code",
   "execution_count": null,
   "id": "ffbff275",
   "metadata": {},
   "outputs": [
    {
     "name": "stdout",
     "output_type": "stream",
     "text": [
      "Emails added successfully\n"
     ]
    }
   ],
   "source": [
    "#12. Add a new column email to the students table using Python and update it with random values\n",
    "import numpy as np\n",
    "domains = np.array([\"gmail.com\", \"yahoo.com\", \"outlook.com\", \"school.edu\"])\n",
    "students = list(db.students.find())\n",
    "for student in students:\n",
    "    rand_num = np.random.randint(100, 999)\n",
    "    domain = np.random.choice(domains)\n",
    "    name_part = student[\"name\"].lower().replace(\" \", \".\")\n",
    "    email = f\"{name_part}{rand_num}@{domain}\"\n",
    "    db.students.update_one(\n",
    "        {\"_id\": student[\"_id\"]},\n",
    "        {\"$set\": {\"email\": email}}\n",
    "    )\n",
    "print(\"Emails added successfully\")"
   ]
  },
  {
   "cell_type": "code",
   "execution_count": null,
   "id": "3d86f191",
   "metadata": {},
   "outputs": [
    {
     "name": "stdout",
     "output_type": "stream",
     "text": [
      "Students enrolled per course:\n",
      "\n",
      "Course ID: 3 | Students: 28\n",
      "Course ID: 9 | Students: 22\n",
      "Course ID: 5 | Students: 21\n",
      "Course ID: 7 | Students: 21\n",
      "Course ID: 1 | Students: 21\n",
      "Course ID: 6 | Students: 20\n",
      "Course ID: 10 | Students: 19\n",
      "Course ID: 4 | Students: 18\n",
      "Course ID: 2 | Students: 16\n",
      "Course ID: 8 | Students: 13\n"
     ]
    }
   ],
   "source": [
    "#13. Create a program to count how many students are enrolled per course and display results in descending order\n",
    "pipeline = [\n",
    "    {\"$group\": {\"_id\": \"$course_id\", \"student_count\": {\"$sum\": 1}}},\n",
    "    {\"$sort\": {\"student_count\": -1}}\n",
    "]\n",
    "results = db.enrollments.aggregate(pipeline)\n",
    "print(\"Students enrolled per course:\\n\")\n",
    "for res in results:\n",
    "    print(\"Course ID:\", res[\"_id\"], \"| Students:\", res[\"student_count\"])"
   ]
  },
  {
   "cell_type": "code",
   "execution_count": null,
   "id": "f3ab4d91",
   "metadata": {},
   "outputs": [
    {
     "name": "stdout",
     "output_type": "stream",
     "text": [
      "\n",
      "Students enrolled in Mathematics:\n",
      "\n",
      "ID: 7 | Name: Leo7 | Grade: A\n",
      "ID: 10 | Name: Leo10 | Grade: A\n",
      "ID: 14 | Name: Bob14 | Grade: C\n",
      "ID: 16 | Name: Tina16 | Grade: A\n",
      "ID: 17 | Name: Alice17 | Grade: B\n",
      "ID: 19 | Name: Paul19 | Grade: A\n",
      "ID: 26 | Name: Mona26 | Grade: D\n",
      "ID: 28 | Name: Nina28 | Grade: B\n",
      "ID: 30 | Name: Tina30 | Grade: A\n",
      "ID: 46 | Name: Zane46 | Grade: C\n",
      "ID: 48 | Name: Leo48 | Grade: B\n",
      "ID: 58 | Name: Eva58 | Grade: A\n",
      "ID: 61 | Name: Oscar61 | Grade: D\n",
      "ID: 62 | Name: Rita62 | Grade: C\n",
      "ID: 71 | Name: Nina71 | Grade: B\n",
      "ID: 74 | Name: Grace74 | Grade: C\n",
      "ID: 77 | Name: Grace77 | Grade: D\n",
      "ID: 81 | Name: Wendy81 | Grade: A\n",
      "ID: 89 | Name: Tina89 | Grade: C\n",
      "ID: 91 | Name: Tina91 | Grade: D\n",
      "ID: 92 | Name: Wendy92 | Grade: C\n"
     ]
    }
   ],
   "source": [
    "#14. Write a Python script that accepts a course name as input and returns all enrolled students with their grades\n",
    "course_name = input(\"Enter course name (partial allowed): \")\n",
    "for course in db.courses.find({\"course_name\": {\"$regex\": course_name, \"$options\": \"i\"}}):\n",
    "    print(f\"\\nStudents enrolled in {course['course_name']}:\\n\")\n",
    "    enrollments = db.enrollments.find({\"course_id\": course[\"course_id\"]})\n",
    "    found = False\n",
    "    for enn in enrollments:\n",
    "        student = db.students.find_one({\"student_id\": enn[\"student_id\"]})\n",
    "        if student:\n",
    "            found = True\n",
    "            print(\"ID:\", student[\"student_id\"],\n",
    "                  \"| Name:\", student[\"name\"],\n",
    "                  \"| Grade:\", student[\"grade\"])\n",
    "    if not found:\n",
    "        print(\"No students enrolled.\")"
   ]
  },
  {
   "cell_type": "code",
   "execution_count": 73,
   "id": "7d144042",
   "metadata": {},
   "outputs": [
    {
     "name": "stdout",
     "output_type": "stream",
     "text": [
      "Exported students to students.csv\n"
     ]
    }
   ],
   "source": [
    "#15.Export the contents of the students table into a CSV file using Python.\n",
    "students = list(db.students.find({}, {\"_id\": 0}))\n",
    "df = pd.DataFrame(students)\n",
    "df.to_csv(\"students.csv\", index=False)\n",
    "print(\"Exported students to students.csv\")"
   ]
  },
  {
   "cell_type": "code",
   "execution_count": 84,
   "id": "652db1c8",
   "metadata": {},
   "outputs": [
    {
     "name": "stdout",
     "output_type": "stream",
     "text": [
      "Student data imported successfully from CSV!\n"
     ]
    }
   ],
   "source": [
    "#16. Write a Python program to import student data from a CSV file into the students table.\n",
    "df = pd.read_csv(\"students.csv\")\n",
    "records = df.to_dict(orient=\"records\")\n",
    "db.students.insert_many(records)\n",
    "print(\"Student data imported successfully from CSV!\")"
   ]
  },
  {
   "cell_type": "code",
   "execution_count": 75,
   "id": "28f76324",
   "metadata": {},
   "outputs": [
    {
     "name": "stdout",
     "output_type": "stream",
     "text": [
      "Duplicate found! Student ID 1 already exists.\n",
      "Duplicate found! Student ID 2 already exists.\n",
      "Duplicate found! Student ID 3 already exists.\n",
      "Duplicate found! Student ID 4 already exists.\n",
      "Duplicate found! Student ID 5 already exists.\n",
      "Duplicate found! Student ID 6 already exists.\n",
      "Duplicate found! Student ID 7 already exists.\n",
      "Duplicate found! Student ID 8 already exists.\n",
      "Duplicate found! Student ID 9 already exists.\n",
      "Duplicate found! Student ID 10 already exists.\n",
      "Duplicate found! Student ID 11 already exists.\n",
      "Duplicate found! Student ID 12 already exists.\n",
      "Duplicate found! Student ID 13 already exists.\n",
      "Duplicate found! Student ID 14 already exists.\n",
      "Duplicate found! Student ID 15 already exists.\n",
      "Duplicate found! Student ID 16 already exists.\n",
      "Duplicate found! Student ID 17 already exists.\n",
      "Duplicate found! Student ID 18 already exists.\n",
      "Duplicate found! Student ID 19 already exists.\n",
      "Duplicate found! Student ID 20 already exists.\n",
      "Duplicate found! Student ID 21 already exists.\n",
      "Duplicate found! Student ID 22 already exists.\n",
      "Duplicate found! Student ID 23 already exists.\n",
      "Duplicate found! Student ID 24 already exists.\n",
      "Duplicate found! Student ID 25 already exists.\n",
      "Duplicate found! Student ID 26 already exists.\n",
      "Duplicate found! Student ID 27 already exists.\n",
      "Duplicate found! Student ID 28 already exists.\n",
      "Duplicate found! Student ID 29 already exists.\n",
      "Duplicate found! Student ID 30 already exists.\n",
      "Duplicate found! Student ID 31 already exists.\n",
      "Duplicate found! Student ID 32 already exists.\n",
      "Duplicate found! Student ID 33 already exists.\n",
      "Duplicate found! Student ID 34 already exists.\n",
      "Duplicate found! Student ID 35 already exists.\n",
      "Duplicate found! Student ID 36 already exists.\n",
      "Duplicate found! Student ID 37 already exists.\n",
      "Duplicate found! Student ID 38 already exists.\n",
      "Duplicate found! Student ID 39 already exists.\n",
      "Duplicate found! Student ID 40 already exists.\n",
      "Duplicate found! Student ID 41 already exists.\n",
      "Duplicate found! Student ID 42 already exists.\n",
      "Duplicate found! Student ID 43 already exists.\n",
      "Duplicate found! Student ID 44 already exists.\n",
      "Duplicate found! Student ID 45 already exists.\n",
      "Duplicate found! Student ID 46 already exists.\n",
      "Duplicate found! Student ID 47 already exists.\n",
      "Duplicate found! Student ID 48 already exists.\n",
      "Duplicate found! Student ID 49 already exists.\n",
      "Duplicate found! Student ID 50 already exists.\n",
      "Duplicate found! Student ID 51 already exists.\n",
      "Duplicate found! Student ID 52 already exists.\n",
      "Duplicate found! Student ID 53 already exists.\n",
      "Duplicate found! Student ID 54 already exists.\n",
      "Duplicate found! Student ID 55 already exists.\n",
      "Duplicate found! Student ID 56 already exists.\n",
      "Duplicate found! Student ID 57 already exists.\n",
      "Duplicate found! Student ID 58 already exists.\n",
      "Duplicate found! Student ID 59 already exists.\n",
      "Duplicate found! Student ID 60 already exists.\n",
      "Duplicate found! Student ID 61 already exists.\n",
      "Duplicate found! Student ID 62 already exists.\n",
      "Duplicate found! Student ID 63 already exists.\n",
      "Duplicate found! Student ID 64 already exists.\n",
      "Duplicate found! Student ID 65 already exists.\n",
      "Duplicate found! Student ID 66 already exists.\n",
      "Duplicate found! Student ID 67 already exists.\n",
      "Duplicate found! Student ID 68 already exists.\n",
      "Duplicate found! Student ID 69 already exists.\n",
      "Duplicate found! Student ID 70 already exists.\n",
      "Duplicate found! Student ID 71 already exists.\n",
      "Duplicate found! Student ID 72 already exists.\n",
      "Duplicate found! Student ID 73 already exists.\n",
      "Duplicate found! Student ID 74 already exists.\n",
      "Duplicate found! Student ID 75 already exists.\n",
      "Duplicate found! Student ID 76 already exists.\n",
      "Duplicate found! Student ID 77 already exists.\n",
      "Duplicate found! Student ID 78 already exists.\n",
      "Duplicate found! Student ID 79 already exists.\n",
      "Duplicate found! Student ID 80 already exists.\n",
      "Duplicate found! Student ID 81 already exists.\n",
      "Duplicate found! Student ID 82 already exists.\n",
      "Duplicate found! Student ID 83 already exists.\n",
      "Duplicate found! Student ID 84 already exists.\n",
      "Duplicate found! Student ID 85 already exists.\n",
      "Duplicate found! Student ID 86 already exists.\n",
      "Duplicate found! Student ID 87 already exists.\n",
      "Duplicate found! Student ID 88 already exists.\n",
      "Duplicate found! Student ID 89 already exists.\n",
      "Duplicate found! Student ID 90 already exists.\n",
      "Duplicate found! Student ID 91 already exists.\n",
      "Duplicate found! Student ID 92 already exists.\n",
      "Duplicate found! Student ID 93 already exists.\n",
      "Duplicate found! Student ID 94 already exists.\n",
      "Duplicate found! Student ID 95 already exists.\n",
      "Duplicate found! Student ID 96 already exists.\n",
      "Duplicate found! Student ID 97 already exists.\n",
      "Duplicate found! Student ID 98 already exists.\n",
      "Duplicate found! Student ID 99 already exists.\n",
      "Duplicate found! Student ID 100 already exists.\n"
     ]
    }
   ],
   "source": [
    "#18.Handle exceptions in Python to gracefully catch duplicate entries (e.g., inserting a student with the same ID)\n",
    "from pymongo import MongoClient, errors\n",
    "for rec in records:\n",
    "    try:\n",
    "        db.students.insert_one(rec)\n",
    "        print(f\"Inserted: {rec['student_id']} - {rec['name']}\")\n",
    "    except errors.DuplicateKeyError:\n",
    "        print(f\"Duplicate found! Student ID {rec['student_id']} already exists.\")"
   ]
  },
  {
   "cell_type": "code",
   "execution_count": 78,
   "id": "d58e3de6",
   "metadata": {},
   "outputs": [
    {
     "name": "stdout",
     "output_type": "stream",
     "text": [
      "Transaction aborted due to error: Cannot use MongoClient after close\n"
     ]
    }
   ],
   "source": [
    "#19. Write a program to implement transactions in Python:\n",
    "# Insert a student\n",
    "# Enroll them in a course\n",
    "# Roll back if the second query fails\n",
    "with client.start_session() as session:\n",
    "    try:\n",
    "        with session.start_transaction():\n",
    "            student = {\"student_id\": \"10\", \"name\": \"leo\", \"age\": 45, \"grade\": \"C\"}\n",
    "            db.students.insert_one(student, session=session)\n",
    "            enrollment = {\"enroll_id\": \"6000\", \"student_id\": \"10\", \"course_id\": \"8999\"}\n",
    "            db.enrollments.insert_one(enrollment, session=session)\n",
    "            print(\"Transaction successful! Student and enrollment inserted.\")\n",
    "    except errors.PyMongoError as e:\n",
    "        print(\"Transaction aborted due to error:\", e)"
   ]
  },
  {
   "cell_type": "code",
   "execution_count": 79,
   "id": "47671285",
   "metadata": {},
   "outputs": [
    {
     "name": "stdout",
     "output_type": "stream",
     "text": [
      "MongoDB connection closed safely.\n"
     ]
    }
   ],
   "source": [
    "#20. Close the database connection safely in Python, ensuring both cursor and connection are properly closed\n",
    "client.close()\n",
    "print(\"MongoDB connection closed safely.\")"
   ]
  }
 ],
 "metadata": {
  "kernelspec": {
   "display_name": "Python 3",
   "language": "python",
   "name": "python3"
  },
  "language_info": {
   "codemirror_mode": {
    "name": "ipython",
    "version": 3
   },
   "file_extension": ".py",
   "mimetype": "text/x-python",
   "name": "python",
   "nbconvert_exporter": "python",
   "pygments_lexer": "ipython3",
   "version": "3.13.2"
  }
 },
 "nbformat": 4,
 "nbformat_minor": 5
}
