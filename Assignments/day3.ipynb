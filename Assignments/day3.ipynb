{
 "cells": [
  {
   "cell_type": "code",
   "execution_count": null,
   "id": "85e8ee1a",
   "metadata": {},
   "outputs": [
    {
     "name": "stdout",
     "output_type": "stream",
     "text": [
      "Mean of student marks: 8.4\n",
      "Median of student marks: 9\n",
      "Mean using statistics module: 8.4\n",
      "Median using statistics module: 8.5\n"
     ]
    }
   ],
   "source": [
    "#1.In Quiz 1 of a course the marks obtained by ten students are 12, 4, 5, 3, 8, 7, 10, 15, 9, 11. Write a python program to calculate the mean and median of the marks obtained by the students. Cross check the results by importing statistics module in python. \n",
    "import statistics\n",
    "student_marks = [12,4,5,3,8,7,10,15,9,11]\n",
    "mean = sum(student_marks)/len(student_marks)\n",
    "print(\"Mean of student marks:\", mean)\n",
    "median = sorted(student_marks)[len(student_marks)//2]\n",
    "print(\"Median of student marks:\", median)  \n",
    "print(\"Mean using statistics module:\", statistics.mean(student_marks))\n",
    "print(\"Median using statistics module:\", statistics.median(student_marks))"
   ]
  },
  {
   "cell_type": "code",
   "execution_count": 79,
   "id": "fb186dd0",
   "metadata": {},
   "outputs": [
    {
     "name": "stdout",
     "output_type": "stream",
     "text": [
      "The first largest number is: 15\n",
      "The second largest number is: 12\n"
     ]
    }
   ],
   "source": [
    "#2.Find the second largest number in a list without using sort().\n",
    "numbers =  [12,4,5,3,8,7,10,15,9,11]\n",
    "print(\"The first largest number is:\",max(numbers))\n",
    "numbers.remove(max(numbers))\n",
    "print(\"The second largest number is:\",max(numbers))\n"
   ]
  },
  {
   "cell_type": "code",
   "execution_count": 2,
   "id": "6a4cc181",
   "metadata": {},
   "outputs": [
    {
     "name": "stdout",
     "output_type": "stream",
     "text": [
      "{2}\n",
      "{3}\n",
      "{5}\n",
      "{7}\n",
      "{11}\n",
      "{13}\n",
      "{17}\n",
      "{19}\n",
      "{23}\n",
      "{29}\n",
      "{31}\n",
      "{37}\n",
      "{41}\n",
      "{43}\n",
      "{47}\n"
     ]
    }
   ],
   "source": [
    "#3.Use sets to find all prime numbers between 1 and 50. Modify the code to take the maximum number from the user.\n",
    "set={}\n",
    "for num in range(1, 50):\n",
    "    if num > 1:\n",
    "        for i in range(2, num):\n",
    "            if (num % i) == 0:\n",
    "                break\n",
    "        else:\n",
    "            print({num})"
   ]
  },
  {
   "cell_type": "code",
   "execution_count": null,
   "id": "02b78354",
   "metadata": {},
   "outputs": [
    {
     "name": "stdout",
     "output_type": "stream",
     "text": [
      "After swapping without using a third variable: car = Ducati , bike = BMW\n",
      "After swapping using a third variable: car = Ducati , bike = BMW\n"
     ]
    }
   ],
   "source": [
    "#1. Write a python program to swap the values in two variables with and without using a third variable\n",
    "#1.Without using third variable\n",
    "car = \"BMW\"\n",
    "bike = \"Ducati\"\n",
    "car, bike = bike, car\n",
    "print(\"After swapping without using a third variable: car =\", car, \", bike =\", bike)\n",
    "#1.With using third variable\n",
    "car = \"BMW\"\n",
    "bike = \"Ducati\"\n",
    "lorry = car\n",
    "car = bike\n",
    "bike = lorry\n",
    "print(\"After swapping using a third variable: car =\", car, \", bike =\", bike)"
   ]
  },
  {
   "cell_type": "code",
   "execution_count": 2,
   "id": "325223cf",
   "metadata": {},
   "outputs": [],
   "source": [
    "#2. Write a Python program that accepts a single numeric parameter representing an angle in radians to convert into degree\n",
    "import math\n",
    "def radians_to_degrees(radians):\n",
    "    degrees = radians * (180 / math.pi)\n",
    "    return degrees"
   ]
  },
  {
   "cell_type": "code",
   "execution_count": 12,
   "id": "4dbe08b2",
   "metadata": {},
   "outputs": [],
   "source": [
    "#3. Implement a Python program that calculates simple interest based on user input for the principal amount, rate of interest, and duration\n",
    "def simple_interest(principal, rate, time):\n",
    "    interest = (principal * rate * time) / 100\n",
    "    print(interest) \n",
    "    #or\n",
    "    return interest"
   ]
  },
  {
   "cell_type": "code",
   "execution_count": null,
   "id": "8a666085",
   "metadata": {},
   "outputs": [],
   "source": [
    "#4. Create a Python program that takes a single character input and determines whether it is a vowel or consonant.\n",
    "def check_vowel_consonant(char): \n",
    "    if char in 'aeiou,AEIOU': \n",
    "        print(char, \"is a vowel.\") \n",
    "    else: \n",
    "        print(char, \"is a consonant.\")"
   ]
  },
  {
   "cell_type": "code",
   "execution_count": 29,
   "id": "ac99ace8",
   "metadata": {},
   "outputs": [],
   "source": [
    "# 5. Write a Python programme to solve a quadratic equation. The inputs shall be taken from the user\n",
    "import math\n",
    "def solve_quadratic(a, b, c):\n",
    "    d = (b**2) - (4*a*c)\n",
    "    sqrt_val = math.sqrt(abc(d))\n",
    "    if d > 0:\n",
    "        root1 = (-b + sqrt_val) / (2 * a)\n",
    "        root2 = (-b - sqrt_val) / (2 * a)\n",
    "        return (root1, root2)\n",
    "    elif d == 0:\n",
    "        root = -b / (2 * a)\n",
    "        return (root)\n",
    "    else:\n",
    "        real_part = -b / (2 * a)\n",
    "        root1 = complex(real_part)\n",
    "        root2 = complex(real_part)\n",
    "        return (root1, root2)"
   ]
  }
 ],
 "metadata": {
  "kernelspec": {
   "display_name": "Python 3",
   "language": "python",
   "name": "python3"
  },
  "language_info": {
   "codemirror_mode": {
    "name": "ipython",
    "version": 3
   },
   "file_extension": ".py",
   "mimetype": "text/x-python",
   "name": "python",
   "nbconvert_exporter": "python",
   "pygments_lexer": "ipython3",
   "version": "3.13.2"
  }
 },
 "nbformat": 4,
 "nbformat_minor": 5
}
