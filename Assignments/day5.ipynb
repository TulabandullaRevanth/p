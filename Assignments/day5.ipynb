{
 "cells": [
  {
   "cell_type": "code",
   "execution_count": 12,
   "id": "5761b16f",
   "metadata": {},
   "outputs": [
    {
     "name": "stdout",
     "output_type": "stream",
     "text": [
      "2\n",
      "5\n"
     ]
    }
   ],
   "source": [
    "#1. Explain with examples: \n",
    "# How method overriding is different from method overloading (Python’s version using default arguments or *args).\n",
    "# Which one Python actually supports directly? \n",
    "#Method Overriding:\n",
    "#Method overriding occurs when a subclass provides a specific implementation of a method that is already defined in its superclass. This allows the subclass to customize or extend the functionality of the inherited method.\n",
    "class Animal:\n",
    "    def sound(self): \n",
    "        return \"Some sound\"\n",
    "class Dog(Animal):\n",
    "     def sound(self):\n",
    "      return \"Bark\"\n",
    "class cat(Animal):\n",
    "     def sound(self):\n",
    "      return \"meau\"     \n",
    "dog = Dog()  # Output: Bark\n",
    "cat = cat()  # output: meau  \n",
    "  \n",
    "# Methord overloading:\n",
    "# Method overloading refers to the ability to define multiple methods with the same name but with different parameters (number, type, etc.).\n",
    "# Python does not support method overloading directly. However, you can simulate overloading using default arguments or *args and **kwargs.\n",
    "class Calculator:\n",
    "     def add(self, a=0, b=0):  # At the plave of a,b we can use *args\n",
    "       return a + b         # sum(args) at the place of a + b\n",
    "calc = Calculator()\n",
    "print(calc.add(2))          # Output: 2\n",
    "print(calc.add(2, 3))       # Output: 5\n"
   ]
  },
  {
   "cell_type": "code",
   "execution_count": 30,
   "id": "a71aaeba",
   "metadata": {},
   "outputs": [
    {
     "name": "stdout",
     "output_type": "stream",
     "text": [
      "1500\n",
      "78.5\n",
      "(100, 'Processed with Credit Card')\n"
     ]
    }
   ],
   "source": [
    "# Suppose you’re designing an E-commerce app. Describe how you would use: \n",
    "# Encapsulation \n",
    "# Inheritance \n",
    "# Polymorphism \n",
    "# Abstraction \n",
    "# Give class examples for each.\n",
    "# Encapsulation:\n",
    "# Encapsulation is the concept of bundling data and methods that operate on that data within a single unit or class. In an E-commerce app, we can encapsulate the properties and behaviors of a Product.\n",
    "class BankAccount:\n",
    "    def __init__(self, balance):\n",
    "        self.__balance = balance   # private variable\n",
    "    def deposit(self, amount):\n",
    "        self.__balance += amount\n",
    "    def get_balance(self):\n",
    "        return self.__balance\n",
    "# Usage\n",
    "acc = BankAccount(1000)\n",
    "acc.deposit(500)\n",
    "print(acc.get_balance())     #output: 1500   \n",
    "# Inheritance:\n",
    "# Inheritance allows a class to inherit properties and methods from another class. In our E-commerce   \n",
    "# app, we can have a base class User and derive Customer and Admin classes from it.\n",
    "class vehicle:\n",
    "    def start(self):\n",
    "        return \"Vehicle started\"\n",
    "class car(vehicle):\n",
    "    def honk(self):\n",
    "        return \"car honks\"\n",
    "t = car()\n",
    "t.start()\n",
    "t.honk() # Output: Car started        \n",
    "# Polymorphism:\n",
    "# Polymorphism allows methods to do different things based on the object it is acting upon.\n",
    "# In our E-commerce app, we can have a method to calculate discounts that behaves differently for different user types.\n",
    "class circle:\n",
    "    def area(self, radius):\n",
    "        return 3.14 * radius * radius\n",
    "class rectangle:\n",
    "    def area(self, length, breadth):\n",
    "        return length * breadth\n",
    "shape = circle()\n",
    "print(shape.area(5))  # Output: 78.5 \n",
    "# Abstraction:\n",
    "# Abstraction is the concept of hiding complex implementation details and showing only the essential features of the\n",
    "# object. In our E-commerce app, we can create an abstract class PaymentMethod that defines a method process_payment.\n",
    "# Concrete classes like CreditCardPayment and PayPalPayment will implement this method.\n",
    "from abc import ABC, abstractmethod \n",
    "class PaymentMethod(ABC):\n",
    "    @abstractmethod\n",
    "    def process_payment(self, amount):\n",
    "        pass\n",
    "class CreditCardPayment(PaymentMethod):\n",
    "    def process_payment(self, amount):\n",
    "        return (amount, \"Processed with Credit Card\")\n",
    "s = CreditCardPayment()\n",
    "print(s.process_payment(100))  # Output: (100, \"Processed with Credit Card    \n"
   ]
  },
  {
   "cell_type": "code",
   "execution_count": 49,
   "id": "b8d0949b",
   "metadata": {},
   "outputs": [
    {
     "name": "stdout",
     "output_type": "stream",
     "text": [
      "Quack\n",
      "Bow bow\n"
     ]
    }
   ],
   "source": [
    "#3. What is duck typing in Python? Show with an example how polymorphism in Python supports duck typing.\n",
    "# Duck typing is a concept in Python that focuses on the behavior of an object rather than its actual type.\n",
    "# The idea is that if an object behaves like a certain type (i.e., it has the necessary methods and properties),\n",
    "# it can be treated as that type, regardless of its actual class or inheritance. This is often summarized by the phrase \"If it looks like a duck and quacks like a duck, it's a duck.\"\n",
    "class duck:\n",
    "    def sound(self):\n",
    "        print(\"Quack\")\n",
    "class Dog:\n",
    "    def sound(self):\n",
    "        print(\"Bow bow\")\n",
    "def make_it_sound(animal):\n",
    "    animal.sound()   \n",
    "t = duck()\n",
    "p = Dog()\n",
    "make_it_sound(t)  #output: Quack\n",
    "make_it_sound(p)  #output: Bow bow\n",
    "  "
   ]
  },
  {
   "cell_type": "code",
   "execution_count": null,
   "id": "989c1820",
   "metadata": {},
   "outputs": [
    {
     "name": "stdout",
     "output_type": "stream",
     "text": [
      "Custom Exception Caught: Not enough balance!\n"
     ]
    }
   ],
   "source": [
    "#4. How do custom exceptions improve code readability and maintainability? Give one case where defining your own exception class is better than using built-in exceptions.\n",
    "# Custom exceptions improve code readability and maintainability by providing more specific and meaningful error messages that are relevant to the context of the application.\n",
    "# This makes it easier for developers to understand what went wrong and how to handle the error appropriately\n",
    "class InsufficientFundsError(Exception):\n",
    "    \"\"\"Raised when withdrawal amount exceeds balance\"\"\"\n",
    "    pass\n",
    "class BankAccount:\n",
    "    def __init__(self, balance):\n",
    "        self.balance = balance\n",
    "    def withdraw(self, amount):\n",
    "        if amount > self.balance:\n",
    "            raise InsufficientFundsError(\"Not enough balance!\")\n",
    "        self.balance -= amount\n",
    "        return self.balance\n",
    "try:\n",
    "    acc = BankAccount(1500)\n",
    "    acc.withdraw(2000)\n",
    "except InsufficientFundsError as e:\n",
    "    print(\"Custom Exception Caught:\", e)\n"
   ]
  },
  {
   "cell_type": "code",
   "execution_count": 55,
   "id": "ac9c6f62",
   "metadata": {},
   "outputs": [
    {
     "name": "stdout",
     "output_type": "stream",
     "text": [
      "vehicle started\n"
     ]
    },
    {
     "data": {
      "text/plain": [
       "'Engine started'"
      ]
     },
     "execution_count": 55,
     "metadata": {},
     "output_type": "execute_result"
    }
   ],
   "source": [
    "#5. Compare composition vs inheritance. Give one scenario where you would prefer composition over inheritance.\n",
    "# Inheritance is a relationship where one class,subclass or derived class inherits properties and methods from another class base or parent class. \n",
    "# This is a \"is-a\" relationship\n",
    "#Is-a\" Relationship: If a class A inherits from class B, A is a type of B.\n",
    "#Code Reusability,Extensibility,Tight Coupling: \n",
    "class vehicle:\n",
    "    def start(self): \n",
    "         print(\"vehicle started\")\n",
    "class car(vehicle):\n",
    "   pass\n",
    "swift = car()\n",
    "swift.start() \n",
    "# Composition is a design principle where a class is composed of one or more objects from other classes. This is a \"has-a\" relationship.\n",
    "# \"has-a\" Relationship: If class A contains an instance of class B, A has a B.\n",
    "#Flexibility,Loose Coupling:\n",
    "class engine:\n",
    "    def start(self):\n",
    "        return \"Engine started\"\n",
    "class car:\n",
    "    def __init__(self):\n",
    "        self.engine = engine()  # car has an engine\n",
    "    def start(self):\n",
    "        return self.engine.start()\n",
    "my_car = car()\n",
    "my_car.start()  # Output: Engine started    \n"
   ]
  },
  {
   "cell_type": "code",
   "execution_count": 36,
   "id": "d1708747",
   "metadata": {},
   "outputs": [
    {
     "name": "stdout",
     "output_type": "stream",
     "text": [
      "Revanth 50000\n",
      "Sunil 60000\n",
      "charan Team:\n",
      "Revanth\n",
      "sunil\n",
      "Revanth 100000 Python\n"
     ]
    }
   ],
   "source": [
    "#6. Create a class hierarchy for Employees: \n",
    "# Base class Employee (name, salary). \n",
    "# Subclass Manager (manages list of employees). \n",
    "# Subclass Developer (programming_language). Demonstrate polymorphism by calling a work() method for different employees.\n",
    "class Employee:\n",
    "    def __int__(self, name, salary):\n",
    "        self.name = name\n",
    "        self.salary = salary\n",
    "class Developer(Employee):\n",
    "    pass\n",
    "class Manager(Employee):\n",
    "    pass\n",
    "base = Employee()\n",
    "base.name = \"Revanth\"\n",
    "base.salary = 50000\n",
    "sub = Developer()\n",
    "sub.name = \"Sunil\"\n",
    "sub.salary = 60000\n",
    "print(base.name,base.salary)  \n",
    "print(sub.name,sub.salary)\n",
    "# Subclass Manager(manager list of employees).\n",
    "class Employee:\n",
    "    def __init__(self, name):\n",
    "        self.name = name\n",
    "class Manager(Employee):\n",
    "    def __init__(self, name):\n",
    "        super().__init__(name)\n",
    "        self.team = []\n",
    "\n",
    "    def add_employee(self, emp):\n",
    "        self.team.append(emp)\n",
    "\n",
    "    def show_team(self):\n",
    "        print(f\"{self.name} Team:\")\n",
    "        for e in self.team:\n",
    "            print(f\"{e.name}\")\n",
    "\n",
    "feed1 = Employee(\"Revanth\")\n",
    "feed2= Employee(\"sunil\")\n",
    "mag= Manager(\"charan\")\n",
    "mag.add_employee(feed1)\n",
    "mag.add_employee(feed2)\n",
    "mag.show_team()\n",
    "feed1 = Employee(\"Ravi\")\n",
    "feed2 = Employee(\"Rakesh\")    \n",
    "#Subclass Developer (programming_language).\n",
    "class Employee:\n",
    "    def __init__(self, name, salary):\n",
    "        self.name = name\n",
    "        self.salary = salary\n",
    "class Developer(Employee):\n",
    "    def __init__(self, name, salary, programming_language):\n",
    "        super().__init__(name, salary)\n",
    "        self.programming_language = programming_language\n",
    "dev1 = Developer(\"Revanth\", 100000, \"Python\")\n",
    "print(dev1.name, dev1.salary, dev1.programming_language)"
   ]
  },
  {
   "cell_type": "code",
   "execution_count": 39,
   "id": "d579c6af",
   "metadata": {},
   "outputs": [
    {
     "name": "stdout",
     "output_type": "stream",
     "text": [
      "Teaching students\n",
      "research\n",
      "[<class '__main__.Professor'>, <class '__main__.Teacher'>, <class '__main__.Researcher'>, <class 'object'>]\n"
     ]
    }
   ],
   "source": [
    "#7 Implement multiple inheritance in Python with a Teacher and Researcher class. Derive a Professor class that inherits from both. Show how MRO (Method Resolution Order) works in Python.\n",
    "class Teacher:\n",
    "    def teach(self):\n",
    "        print(\"Teaching students\")      \n",
    "class Researcher:\n",
    "    def research(self):\n",
    "        print(\"research\")\n",
    "class Professor(Teacher, Researcher):\n",
    "    def guide(self):\n",
    "        print(\"Guiding students and research\")\n",
    "process= Professor() \n",
    "process.teach()\n",
    "process.research()\n",
    "#MRO (Method Resolution Order)\n",
    "print(Professor.mro())"
   ]
  },
  {
   "cell_type": "code",
   "execution_count": null,
   "id": "03abc916",
   "metadata": {},
   "outputs": [
    {
     "name": "stdout",
     "output_type": "stream",
     "text": [
      "86.33333333333333\n",
      "Grade: B\n"
     ]
    }
   ],
   "source": [
    "#8 Design a Student Grading System using OOP:\n",
    "#  Class Student with attributes name, roll, marks (dict).\n",
    "#  Methods: calculate_average(), get_grade().\n",
    "#  Use encapsulation to keep marks private.\n",
    "class Student:\n",
    "    def __init__(self, name, roll, marks):\n",
    "        self.name = name\n",
    "        self.roll = roll\n",
    "        self.__marks = marks  # private attribute\n",
    "\n",
    "    def calculate_average(self):\n",
    "        total_marks = sum(self.__marks.values())\n",
    "        num_subjects = len(self.__marks)\n",
    "        return total_marks / num_subjects if num_subjects > 0 else 0\n",
    "\n",
    "    def get_grade(self):\n",
    "        average = self.calculate_average()\n",
    "        if average >= 90:\n",
    "            return 'A'\n",
    "        elif average >= 80:\n",
    "            return 'B'\n",
    "        elif average >= 70:\n",
    "            return 'C'\n",
    "        elif average >= 60:\n",
    "            return 'D'\n",
    "        else:\n",
    "            return 'F'\n",
    "marks = {'Math': 95, 'Science': 88, 'English': 76}\n",
    "student = Student(\"Revanth\", 101, marks) \n",
    "print(\"Average:\",student.calculate_average())  \n",
    "print(\"Grade:\",student.get_grade())                "
   ]
  },
  {
   "cell_type": "code",
   "execution_count": null,
   "id": "422f1afc",
   "metadata": {},
   "outputs": [
    {
     "name": "stdout",
     "output_type": "stream",
     "text": [
      "Amount Paid 5000 using Credit Card\n",
      "Amount Paid 500 using UPI\n",
      "Amount Paid 650 using Wallet\n"
     ]
    }
   ],
   "source": [
    "#9 Create an abstract class Payment with abstract method pay(amount). Implement subclasses CreditCardPayment, UPIPayment, and WalletPayment. Simulate different payments.\n",
    "from abc import ABC, abstractmethod\n",
    "class Payment(ABC):\n",
    "    @abstractmethod\n",
    "    def pay(self, amount):\n",
    "        pass\n",
    "class CreditCardPayment(Payment):\n",
    "    def pay(self, amount):\n",
    "        print(f\"Amount Paid {amount} using Credit Card\")\n",
    "class UPIPayment(Payment):\n",
    "    def pay(self, amount):\n",
    "        print(f\"Amount Paid {amount} using UPI\")\n",
    "class WalletPayment(Payment):\n",
    "    def pay(self, amount):\n",
    "        print(f\"Amount Paid {amount} using Wallet\")        \n",
    "crd_payment = CreditCardPayment()    \n",
    "crd_payment.pay(5000)\n",
    "upi_payment = UPIPayment()          \n",
    "upi_payment.pay(500)\n",
    "wallet_payment = WalletPayment()\n",
    "wallet_payment.pay(650)"
   ]
  },
  {
   "cell_type": "code",
   "execution_count": 50,
   "id": "4a1ef10d",
   "metadata": {},
   "outputs": [
    {
     "name": "stdout",
     "output_type": "stream",
     "text": [
      "Balance left: 9000\n",
      "Balance left: 8300\n"
     ]
    }
   ],
   "source": [
    "#10 Define a custom exception InsufficientFundsError. Modify your BankAccount class so that withdrawing more than balance raises this exception. Handle it gracefully.\n",
    "class InsufficientFundsError(Exception):\n",
    "    pass\n",
    "class BankAccount:\n",
    "    def __init__(self, balance):\n",
    "        self.balance = balance\n",
    "    def withdraw(self, amount):\n",
    "        if amount > self.balance:\n",
    "            raise InsufficientFundsError(\"Not enough balance to withdraw!\")\n",
    "        self.balance -= amount\n",
    "        return self.balance\n",
    "acc = BankAccount(10000)\n",
    "try:\n",
    "    print(\"Balance left:\", acc.withdraw(1000))   \n",
    "    print(\"Balance left:\", acc.withdraw(700))   \n",
    "except InsufficientFundsError as error:\n",
    "    print(\"Error:\", error)"
   ]
  },
  {
   "cell_type": "code",
   "execution_count": 52,
   "id": "7eb5dd71",
   "metadata": {},
   "outputs": [
    {
     "name": "stdout",
     "output_type": "stream",
     "text": [
      "Even num.\n",
      "Program ended.\n",
      "Your age is 50.\n"
     ]
    }
   ],
   "source": [
    "#11(a). Demonstrate try-except-else-finally:\n",
    "#  Take a number from the user.\n",
    "#  If the number is even, print “Even number.”\n",
    "#  Else, print “Odd number.”\n",
    "#  Use except for invalid input and finally to print “Program ended.”\n",
    "try:\n",
    "    num = int(input(\"Enter a num: \"))\n",
    "    if num % 2 == 0:\n",
    "        print(\"Even num.\")\n",
    "    else:\n",
    "        print(\"Odd num.\")\n",
    "finally:        \n",
    "    print(\"Program ended.\")\n",
    "#11(b).Create a program that asks the user for an age.\n",
    "#    If input is non-numeric → handle with ValueError.\n",
    "#    If age < 0 → raise NegativeAgeError.\n",
    "#    If age > 150 → raise UnrealisticAgeError.\n",
    "#    Else print valid age.\n",
    "class NegativeAgeError(Exception):\n",
    "    pass\n",
    "class UnrealisticAgeError(Exception):   \n",
    "    pass\n",
    "try:\n",
    "    age = int(input(\"Enter your age: \"))\n",
    "    if age < 0:\n",
    "        raise NegativeAgeError(\"Age cannot be negative!\")\n",
    "    elif age > 150:\n",
    "        raise UnrealisticAgeError(\"Age seems unrealistic!\")\n",
    "    else:\n",
    "        print(f\"Your age is {age}.\")\n",
    "except ValueError:\n",
    "    print(\"Invalid input! Please enter a numeric age.\")\n",
    "except (NegativeAgeError, UnrealisticAgeError) as error:\n",
    "    print(\"Error:\", error) \n"
   ]
  },
  {
   "cell_type": "code",
   "execution_count": 54,
   "id": "c63cd886",
   "metadata": {},
   "outputs": [
    {
     "name": "stdout",
     "output_type": "stream",
     "text": [
      "'Python 200' not available\n",
      "'Python 55' not available\n",
      "borrowed 'Python 50'\n",
      "You returned 'Python 50'\n"
     ]
    }
   ],
   "source": [
    "#12 Implement a library management system:\n",
    "#   Class Book with attributes: title, author, copies.\n",
    "#   Class Library that manages a collection of books with methods: add_book, borrow_book, return_book.\n",
    "#   Use encapsulation to prevent direct modification of copies.\n",
    "class Book:\n",
    "    def __init__(self, title, author, copies):\n",
    "        self.title = title\n",
    "        self.author = author\n",
    "        self.__copies = copies   \n",
    "\n",
    "    def get_copies(self):\n",
    "        return self.__copies\n",
    "\n",
    "    def borrow(self):\n",
    "        if self.__copies > 0:\n",
    "            self.__copies -= 1\n",
    "            return True\n",
    "        return False\n",
    "\n",
    "    def return_book(self):\n",
    "        self.__copies += 1\n",
    "class Library:\n",
    "    def __init__(self):\n",
    "        self.books = []\n",
    "\n",
    "    def add_book(self, book):\n",
    "        self.books.append(book)\n",
    "\n",
    "    def borrow_book(self, title):\n",
    "        for book in self.books:\n",
    "            if book.title == title and book.borrow():\n",
    "                print(f\"borrowed '{title}'\")\n",
    "                return\n",
    "        print(f\"'{title}' not available\")\n",
    "\n",
    "    def return_book(self, title):\n",
    "        for book in self.books:\n",
    "            if book.title == title:\n",
    "                book.return_book()\n",
    "                print(f\"You returned '{title}'\")\n",
    "                return\n",
    "b1 = Book(\"Python 50\", \"Revanth\", 2)\n",
    "b2 = Book(\"OOP Concepts\", \"Sunil\", 1)\n",
    "lib = Library()\n",
    "lib.add_book(b1)\n",
    "lib.add_book(b2)\n",
    "lib.borrow_book(\"Python 200\")\n",
    "lib.borrow_book(\"Python 55\")\n",
    "lib.borrow_book(\"Python 50\")   \n",
    "lib.return_book(\"Python 50\")"
   ]
  },
  {
   "cell_type": "code",
   "execution_count": 56,
   "id": "43c647ca",
   "metadata": {},
   "outputs": [
    {
     "name": "stdout",
     "output_type": "stream",
     "text": [
      "Paid 0using Credit Card\n",
      "Paid 10000 in Cash\n",
      "Paid 5 using Bitcoin\n"
     ]
    }
   ],
   "source": [
    "#13Write a program that uses polymorphism:\n",
    "#  Define a function process_payment(payment_method) which accepts any object with a pay() method.\n",
    "#  Pass in different classes (CreditCard, Cash, Bitcoin) without them sharing a common parent class. Demonstrate duck typing.\n",
    "class CreditCard:\n",
    "    def pay(self, amount):\n",
    "        print(f\"Paid {amount}using Credit Card\")\n",
    "class Cash:\n",
    "    def pay(self, amount):\n",
    "        print(f\"Paid {amount} in Cash\")\n",
    "class Bitcoin:  \n",
    "    def pay(self, amount):\n",
    "        print(f\"Paid {amount} using Bitcoin\")\n",
    "def process_payment(payment_method, amount):\n",
    "    payment_method.pay(amount)  \n",
    "credits= CreditCard()\n",
    "process_payment(credits, 0)\n",
    "cash = Cash()\n",
    "process_payment(cash, 10000)\n",
    "bit = Bitcoin()\n",
    "process_payment(bit, 5)"
   ]
  },
  {
   "cell_type": "code",
   "execution_count": 57,
   "id": "f498931f",
   "metadata": {},
   "outputs": [
    {
     "name": "stdout",
     "output_type": "stream",
     "text": [
      "Result: 0.0641025641025641\n",
      "Cleanup: End of program.\n"
     ]
    }
   ],
   "source": [
    "#14Create a program that demonstrates nested exception handling:\n",
    "#  Take two numbers as input.\n",
    "#  Handle ValueError if input is invalid.\n",
    "#  Handle ZeroDivisionError if divisor is zero.\n",
    "#  Always print a cleanup message.\n",
    "try:\n",
    "    try:\n",
    "        num1 = float(input(\"Enter numerator: \"))\n",
    "        num2 = float(input(\"Enter denominator: \"))\n",
    "        result = num1 / num2\n",
    "    except ValueError:\n",
    "        print(\"Invalid input! Please enter numeric values.\")\n",
    "    except ZeroDivisionError:\n",
    "        print(\"Error! Division by zero is not allowed.\")\n",
    "    else:\n",
    "        print(f\"Result: {result}\")\n",
    "finally:\n",
    "    print(\"Cleanup: End of program.\")"
   ]
  },
  {
   "cell_type": "code",
   "execution_count": 59,
   "id": "26e63d9e",
   "metadata": {},
   "outputs": [],
   "source": [
    "#15. Build a Shape hierarchy where: \n",
    "# Shape is an abstract class with abstract methods area() and perimeter(). \n",
    "# Implement Rectangle, Circle, and Triangle. \n",
    "# Raise a custom exception InvalidShapeError if negative dimensions are given.\n",
    "from abc import ABC, abstractmethod\n",
    "class InvalidShapeError(Exception):\n",
    "    pass\n",
    "class Shape(ABC):\n",
    "    @abstractmethod\n",
    "    def area(self):\n",
    "        pass  "
   ]
  }
 ],
 "metadata": {
  "kernelspec": {
   "display_name": "Python 3",
   "language": "python",
   "name": "python3"
  },
  "language_info": {
   "codemirror_mode": {
    "name": "ipython",
    "version": 3
   },
   "file_extension": ".py",
   "mimetype": "text/x-python",
   "name": "python",
   "nbconvert_exporter": "python",
   "pygments_lexer": "ipython3",
   "version": "3.13.2"
  }
 },
 "nbformat": 4,
 "nbformat_minor": 5
}
