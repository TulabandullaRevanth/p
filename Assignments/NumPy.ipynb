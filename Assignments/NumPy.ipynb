{
 "cells": [
  {
   "cell_type": "code",
   "execution_count": 1,
   "id": "bf92a75b",
   "metadata": {},
   "outputs": [],
   "source": [
    "import numpy as np"
   ]
  },
  {
   "cell_type": "code",
   "execution_count": null,
   "id": "80e67da7",
   "metadata": {},
   "outputs": [
    {
     "name": "stdout",
     "output_type": "stream",
     "text": [
      "<class 'numpy.ndarray'>\n",
      "shape of a: (3,)\n",
      "current value: 1 2 3\n",
      "[5 2 3]\n",
      "rank: 1\n"
     ]
    }
   ],
   "source": [
    "#1. import numpy as np\n",
    "a = np.array([1, 2, 3])\n",
    "print(type(a))\n",
    "print(\"shape of a:\",a.shape)\n",
    "print(\"current value:\",a[0], a[1], a[2])\n",
    "a[0] = 5\n",
    "print(a)\n",
    "arr=np.linalg.matrix_rank([1,2,3])\n",
    "print(\"rank:\",arr)"
   ]
  },
  {
   "cell_type": "code",
   "execution_count": 14,
   "id": "6d782310",
   "metadata": {},
   "outputs": [
    {
     "name": "stdout",
     "output_type": "stream",
     "text": [
      "shape of b: (2, 3)\n",
      "current vales: 1 2 4\n",
      "rank: 2\n"
     ]
    }
   ],
   "source": [
    "#2. \n",
    "b = np.array([[1, 2, 3], [4, 5, 6]])\n",
    "print(\"shape of b:\",b.shape)\n",
    "print(\"current vales:\",b[0, 0], b[0, 1], b[1, 0])\n",
    "arr=np.linalg.matrix_rank([[1,2,3],[4,5,6]])\n",
    "print(\"rank:\",arr)"
   ]
  },
  {
   "cell_type": "code",
   "execution_count": 19,
   "id": "76a774fd",
   "metadata": {},
   "outputs": [
    {
     "name": "stdout",
     "output_type": "stream",
     "text": [
      "value of a: [[0. 0.]\n",
      " [0. 0.]] value of b: [[1. 1.]] value of c: [[7 7]\n",
      " [7 7]] value of d: [[0.30081859 0.88304631]\n",
      " [0.72058565 0.36528639]] value of e: [[1. 0.]\n",
      " [0. 1.]]\n"
     ]
    }
   ],
   "source": [
    "#3.\n",
    "a = np.zeros((2,2))\n",
    "b = np.ones((1,2))\n",
    "c = np.full((2,2),7)\n",
    "d = np.random.random((2,2))\n",
    "e = np.eye(2)\n",
    "print(\"value of a:\",a,\"value of b:\",b,\"value of c:\",c,\"value of d:\",d,\"value of e:\",e)"
   ]
  },
  {
   "cell_type": "code",
   "execution_count": 41,
   "id": "ed111ba4",
   "metadata": {},
   "outputs": [
    {
     "name": "stdout",
     "output_type": "stream",
     "text": [
      "shape of a: (3, 4)\n",
      "shape of b: (2, 2)\n",
      "values of b: [[2 3]\n",
      " [6 7]]\n"
     ]
    }
   ],
   "source": [
    "#4. Run the following\n",
    "a = np.array([[1,2,3,4],[5,6,7,8],[9,10,11,12]])\n",
    "#What are the shape of a and b? What are the values in b?\n",
    "print(\"shape of a:\",a.shape)\n",
    "b = a[:2, 1:3]\n",
    "print(\"shape of b:\",b.shape)\n",
    "print(\"values of b:\",b)"
   ]
  },
  {
   "cell_type": "code",
   "execution_count": null,
   "id": "511d1265",
   "metadata": {},
   "outputs": [
    {
     "name": "stdout",
     "output_type": "stream",
     "text": [
      "2\n"
     ]
    }
   ],
   "source": [
    "#5. What does the last line print? Does modifying b modify the original array?\n",
    "print(a[0, 1])"
   ]
  },
  {
   "cell_type": "code",
   "execution_count": 44,
   "id": "d9983841",
   "metadata": {},
   "outputs": [
    {
     "name": "stdout",
     "output_type": "stream",
     "text": [
      "77\n"
     ]
    }
   ],
   "source": [
    "b[0, 0] = 77\n",
    "print(a[0,1])"
   ]
  },
  {
   "cell_type": "code",
   "execution_count": 50,
   "id": "3d4660dc",
   "metadata": {},
   "outputs": [
    {
     "name": "stdout",
     "output_type": "stream",
     "text": [
      "value or r1: [5 6 7 8] \n",
      "shape of r1: (4,)\n",
      "value or r2: [[5 6 7 8]] \n",
      "shape of r2: (1, 4)\n",
      "value or r1: [ 2  6 10] \n",
      "shape of r1: (3,)\n",
      "value or r2: [[ 2]\n",
      " [ 6]\n",
      " [10]] \n",
      "shape of r2: (3, 1)\n"
     ]
    }
   ],
   "source": [
    "#6.\n",
    "a = np.array([[1,2,3,4], [5,6,7,8], [9,10,11,12]])\n",
    "row_r1 = a[1, :]\n",
    "row_r2 = a[1:2,:]\n",
    "print(\"value or r1:\",row_r1,\"\\nshape of r1:\",row_r1.shape)\n",
    "print(\"value or r2:\",row_r2,\"\\nshape of r2:\",row_r2.shape)\n",
    "col_r1 = a[:,1]\n",
    "col_r2 = a[:,1:2]\n",
    "print(\"value or r1:\",col_r1,\"\\nshape of r1:\",col_r1.shape)\n",
    "print(\"value or r2:\",col_r2,\"\\nshape of r2:\",col_r2.shape)"
   ]
  },
  {
   "cell_type": "code",
   "execution_count": 51,
   "id": "6952e87d",
   "metadata": {},
   "outputs": [
    {
     "name": "stdout",
     "output_type": "stream",
     "text": [
      "[1 4 5]\n",
      "[1 4 5]\n"
     ]
    }
   ],
   "source": [
    "#7.Run the following:Are the two printed arrays equivalent?\n",
    "a = np.array([[1,2], [3, 4], [5, 6]])\n",
    "print(a[[0, 1, 2], [0, 1, 0]])\n",
    "print(np.array([a[0, 0], a[1, 1], a[2, 0]]))\n"
   ]
  },
  {
   "cell_type": "code",
   "execution_count": 57,
   "id": "1d265923",
   "metadata": {},
   "outputs": [
    {
     "name": "stdout",
     "output_type": "stream",
     "text": [
      "value of b: [2 2]\n",
      "value of c: [2 2]\n"
     ]
    }
   ],
   "source": [
    "#8.When using integer array indexing, you can duplicate several times the same element from the source array. Compare the following instructions:\n",
    "a = np.array([[1,2],[3,4],[5,6]])\n",
    "b = a[[0,0],[1,1]]\n",
    "print(\"value of b:\",b)\n",
    "c = np.array([a[0,1], a[0, 1]])\n",
    "print(\"value of c:\",c)"
   ]
  },
  {
   "cell_type": "code",
   "execution_count": 61,
   "id": "c38161ed",
   "metadata": {},
   "outputs": [
    {
     "name": "stdout",
     "output_type": "stream",
     "text": [
      "value of A: [[ 1  2  3]\n",
      " [ 4  5  6]\n",
      " [ 7  8  9]\n",
      " [10 11 12]]\n",
      "value of B: [0 2 0 1]\n",
      "[ 1  6  7 11]\n",
      "last value of A: [[11  2  3]\n",
      " [ 4  5 16]\n",
      " [17  8  9]\n",
      " [10 21 12]]\n"
     ]
    }
   ],
   "source": [
    "#9. One useful trick with integer array indexing is selecting or mutating one element from each row of a matrix. Run the following code\n",
    "# What do you observe?\n",
    "a= np.array([[1,2,3],[4,5,6], [7,8,9], [10, 11, 12]])\n",
    "print(\"value of A:\",a)\n",
    "b = np.array([0,2,0,1])\n",
    "print(\"value of B:\",b)\n",
    "print(a[np.arange(4),b])\n",
    "a[np.arange(4),b]+=10\n",
    "print(\"last value of A:\",a)\n"
   ]
  },
  {
   "cell_type": "code",
   "execution_count": 75,
   "id": "92373bf3",
   "metadata": {},
   "outputs": [
    {
     "name": "stdout",
     "output_type": "stream",
     "text": [
      "bool_index: [[False False]\n",
      " [ True  True]\n",
      " [ True  True]]\n",
      "bool_index of a: [3 4 5 6]\n",
      "[3 4 5 6]\n",
      "shape: (3, 2)\n"
     ]
    }
   ],
   "source": [
    "#10.Run the following:\n",
    "a = np.array([[1,2],[3,4],[5,6]])\n",
    "bool_idx = (a > 2)\n",
    "# What is the result stored in bool_idx?\n",
    "print(\"bool_index:\",bool_idx)\n",
    "#Run the following:\n",
    "print(\"bool_index of a:\",a[bool_idx])\n",
    "print(a[a > 2])\n",
    "print(\"shape:\",a.shape)"
   ]
  },
  {
   "cell_type": "code",
   "execution_count": null,
   "id": "d41905e7",
   "metadata": {},
   "outputs": [
    {
     "name": "stdout",
     "output_type": "stream",
     "text": [
      "data type of x: int64\n",
      "data type of y: float64\n",
      "data type of z: int32\n"
     ]
    }
   ],
   "source": [
    "#11.Datatypes\n",
    "#What are the datatypes of x, y, z?\n",
    "x = np.array([1, 2])\n",
    "print(\"data type of x:\",x.dtype)\n",
    "y = np.array([1.0, 2.0])\n",
    "print(\"data type of y:\",y.dtype)\n",
    "z = np.array([1, 2], dtype=np.int32)\n",
    "print(\"data type of z:\",z.dtype)"
   ]
  },
  {
   "cell_type": "code",
   "execution_count": 87,
   "id": "cdb02edf",
   "metadata": {},
   "outputs": [
    {
     "name": "stdout",
     "output_type": "stream",
     "text": [
      "adding x and y: [[ 6.  8.]\n",
      " [10. 12.]]\n",
      "adding with nump: [[ 6.  8.]\n",
      " [10. 12.]]\n",
      "subtracting: [[-4. -4.]\n",
      " [-4. -4.]]\n",
      "subtracting with numpy: [[-4. -4.]\n",
      " [-4. -4.]]\n",
      "Multiplying: [[ 5. 12.]\n",
      " [21. 32.]]\n",
      "multiplying with numpy: [[ 5. 12.]\n",
      " [21. 32.]]\n",
      "dividing: [[0.2        0.33333333]\n",
      " [0.42857143 0.5       ]]\n",
      "dividing with numpy: (array([[1., 2.],\n",
      "       [3., 4.]]), array([[5., 6.],\n",
      "       [7., 8.]]))\n",
      "square root of x: [[1.         1.41421356]\n",
      " [1.73205081 2.        ]]\n"
     ]
    }
   ],
   "source": [
    "#12.\n",
    "x = np.array([[1,2],[3,4]], dtype=np.float64)\n",
    "y = np.array([[5,6],[7,8]], dtype=np.float64)\n",
    "print(\"adding x and y:\",x + y)\n",
    "print(\"adding with nump:\",np.add(x,y))\n",
    "print(\"subtracting:\",x - y)\n",
    "print(\"subtracting with numpy:\",np.subtract(x,y))\n",
    "print(\"Multiplying:\",x*y)\n",
    "print(\"multiplying with numpy:\",np.multiply(x, y))\n",
    "print(\"dividing:\",x/y)\n",
    "print(\"dividing with numpy:\",(x,y))\n",
    "print(\"square root of x:\",np.sqrt(x))"
   ]
  },
  {
   "cell_type": "code",
   "execution_count": 89,
   "id": "cdef49d9",
   "metadata": {},
   "outputs": [
    {
     "name": "stdout",
     "output_type": "stream",
     "text": [
      "219\n",
      "219\n"
     ]
    }
   ],
   "source": [
    "#13.What are the mathematical operations performed in the snippet below?\n",
    "v = np.array([9,10])\n",
    "w = np.array([11, 12])\n",
    "print(v.dot(w))\n",
    "print(np.dot(v,w))"
   ]
  },
  {
   "cell_type": "code",
   "execution_count": null,
   "id": "93f67fc9",
   "metadata": {},
   "outputs": [
    {
     "name": "stdout",
     "output_type": "stream",
     "text": [
      "[29 67]\n",
      "[105. 143.]\n"
     ]
    }
   ],
   "source": [
    "#14. What are the mathematical operations performed in the snippet below?\n",
    "x = np.array([[1,2],[3,4]])\n",
    "print(x.dot(v))\n",
    "print(np.dot(y,v))"
   ]
  },
  {
   "cell_type": "code",
   "execution_count": 129,
   "id": "25e6b152",
   "metadata": {},
   "outputs": [
    {
     "name": "stdout",
     "output_type": "stream",
     "text": [
      "10\n",
      "[4 6]\n",
      "[3 7]\n"
     ]
    }
   ],
   "source": [
    "#15. \n",
    "x = np.array([[1,2],[3,4]])\n",
    "print(np.sum(x))\n",
    "print(np.sum(x,axis=0))\n",
    "print(np.sum(x,axis=1))"
   ]
  },
  {
   "cell_type": "code",
   "execution_count": 91,
   "id": "8bc55fd3",
   "metadata": {},
   "outputs": [
    {
     "name": "stdout",
     "output_type": "stream",
     "text": [
      "[[1 2 3]\n",
      " [3 4 5]]\n",
      "[[1 3]\n",
      " [2 4]\n",
      " [3 5]]\n"
     ]
    }
   ],
   "source": [
    "#16.\n",
    "x = np.array([[1,2,3],[3,4,5]])\n",
    "print(x)\n",
    "print(x.T)"
   ]
  },
  {
   "cell_type": "code",
   "execution_count": 96,
   "id": "d7b68185",
   "metadata": {},
   "outputs": [
    {
     "name": "stdout",
     "output_type": "stream",
     "text": [
      "[[2. 0. 0.]\n",
      " [0. 0. 0.]\n",
      " [0. 0. 0.]\n",
      " [0. 0. 0.]]\n",
      "[[2. 2. 0.]\n",
      " [0. 0. 0.]\n",
      " [0. 0. 0.]\n",
      " [0. 0. 0.]]\n",
      "[[2. 2. 4.]\n",
      " [0. 0. 0.]\n",
      " [0. 0. 0.]\n",
      " [0. 0. 0.]]\n",
      "[[2. 2. 4.]\n",
      " [5. 0. 0.]\n",
      " [0. 0. 0.]\n",
      " [0. 0. 0.]]\n",
      "[[2. 2. 4.]\n",
      " [5. 5. 0.]\n",
      " [0. 0. 0.]\n",
      " [0. 0. 0.]]\n",
      "[[2. 2. 4.]\n",
      " [5. 5. 7.]\n",
      " [0. 0. 0.]\n",
      " [0. 0. 0.]]\n",
      "[[2. 2. 4.]\n",
      " [5. 5. 7.]\n",
      " [8. 0. 0.]\n",
      " [0. 0. 0.]]\n",
      "[[2. 2. 4.]\n",
      " [5. 5. 7.]\n",
      " [8. 8. 0.]\n",
      " [0. 0. 0.]]\n",
      "[[ 2.  2.  4.]\n",
      " [ 5.  5.  7.]\n",
      " [ 8.  8. 10.]\n",
      " [ 0.  0.  0.]]\n",
      "[[ 2.  2.  4.]\n",
      " [ 5.  5.  7.]\n",
      " [ 8.  8. 10.]\n",
      " [11.  0.  0.]]\n",
      "[[ 2.  2.  4.]\n",
      " [ 5.  5.  7.]\n",
      " [ 8.  8. 10.]\n",
      " [11. 11.  0.]]\n",
      "[[ 2.  2.  4.]\n",
      " [ 5.  5.  7.]\n",
      " [ 8.  8. 10.]\n",
      " [11. 11. 13.]]\n"
     ]
    }
   ],
   "source": [
    "#17. Broadcasting\n",
    "x = np.array([[1,2,3],[4,5,6],[7,8,9],[10,11,12]])\n",
    "v = np.array([1,0,1])\n",
    "y = np.zeros(x.shape)\n",
    "for i in range(x.shape[0]):\n",
    "    for j in range(x.shape[1]):\n",
    "        y[i,j]=x[i,j]+v[j]\n",
    "        print(y)\n"
   ]
  },
  {
   "cell_type": "code",
   "execution_count": 98,
   "id": "29ddd245",
   "metadata": {},
   "outputs": [
    {
     "name": "stdout",
     "output_type": "stream",
     "text": [
      "[[1 0 1]\n",
      " [1 0 1]\n",
      " [1 0 1]\n",
      " [1 0 1]]\n",
      "[[ 2.  2.  4.]\n",
      " [ 5.  5.  7.]\n",
      " [ 8.  8. 10.]\n",
      " [11. 11. 13.]]\n"
     ]
    }
   ],
   "source": [
    "#18.\n",
    "# Repeat v to match the shape of x\n",
    "w = np.tile(v, (4,1))\n",
    "print(w)\n",
    "\n",
    "# y is already defined as the result of broadcasting x + v\n",
    "print(y)"
   ]
  },
  {
   "cell_type": "code",
   "execution_count": 117,
   "id": "9a6490c2",
   "metadata": {},
   "outputs": [
    {
     "name": "stdout",
     "output_type": "stream",
     "text": [
      "value of y: [[ 2  2  4]\n",
      " [ 8  8 10]\n",
      " [11 11 13]]\n",
      "value of v: [[1]\n",
      " [2]\n",
      " [3]]\n"
     ]
    }
   ],
   "source": [
    "#19.\n",
    "x = np.array([[1,2,3],[7,8,9],[10,11,12]])\n",
    "v = np.array([1,0,1])\n",
    "y = x + v\n",
    "print(\"value of y:\",y)\n",
    "v = np.array([1,2,3])\n",
    "w = np.array([4,5])\n",
    "r = np.reshape(v,(3,1))\n",
    "print(\"value of v:\",r)"
   ]
  },
  {
   "cell_type": "code",
   "execution_count": 115,
   "id": "d8a2549e",
   "metadata": {},
   "outputs": [
    {
     "data": {
      "text/plain": [
       "array([[2, 4, 6],\n",
       "       [5, 7, 9]])"
      ]
     },
     "execution_count": 115,
     "metadata": {},
     "output_type": "execute_result"
    }
   ],
   "source": [
    "#20.\n",
    "x = np.array([[1,2,3],[4,5,6]])\n",
    "x2 = v + x\n",
    "x2"
   ]
  },
  {
   "cell_type": "code",
   "execution_count": 125,
   "id": "5baee12b",
   "metadata": {},
   "outputs": [
    {
     "name": "stdout",
     "output_type": "stream",
     "text": [
      "[[ 5  6  7]\n",
      " [12 13 14]\n",
      " [16 17 18]]\n"
     ]
    }
   ],
   "source": [
    "#21\n",
    "w = np.array([4,5])\n",
    "w = w.reshape(1,2)\n",
    "w = np.array([4,5,6])\n",
    "y = x+w.reshape(3,1)\n",
    "print(y)"
   ]
  },
  {
   "cell_type": "code",
   "execution_count": 126,
   "id": "2b85e67f",
   "metadata": {},
   "outputs": [
    {
     "data": {
      "text/plain": [
       "array([[ 2,  4,  6],\n",
       "       [14, 16, 18],\n",
       "       [20, 22, 24]])"
      ]
     },
     "execution_count": 126,
     "metadata": {},
     "output_type": "execute_result"
    }
   ],
   "source": [
    "#22.\n",
    "x = np.array([[1,2,3],[7,8,9],[10,11,12]])\n",
    "y = x*2\n",
    "y"
   ]
  }
 ],
 "metadata": {
  "kernelspec": {
   "display_name": "Python 3",
   "language": "python",
   "name": "python3"
  },
  "language_info": {
   "codemirror_mode": {
    "name": "ipython",
    "version": 3
   },
   "file_extension": ".py",
   "mimetype": "text/x-python",
   "name": "python",
   "nbconvert_exporter": "python",
   "pygments_lexer": "ipython3",
   "version": "3.13.2"
  }
 },
 "nbformat": 4,
 "nbformat_minor": 5
}
