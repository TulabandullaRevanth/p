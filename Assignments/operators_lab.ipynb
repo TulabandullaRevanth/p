{
 "cells": [
  {
   "cell_type": "code",
   "execution_count": 47,
   "id": "2aa82ee5",
   "metadata": {},
   "outputs": [
    {
     "name": "stdout",
     "output_type": "stream",
     "text": [
      "Python version: 3.13.2 (tags/v3.13.2:4f8bb39, Feb  4 2025, 15:23:48) [MSC v.1942 64 bit (AMD64)]\n"
     ]
    }
   ],
   "source": [
    "#A2  Show the Python version with sys.version. \n",
    "# Check Python version\n",
    "import sys\n",
    "print(\"Python version:\", sys.version)\n",
    " "
   ]
  },
  {
   "cell_type": "code",
   "execution_count": 48,
   "id": "6486b2ba",
   "metadata": {},
   "outputs": [
    {
     "name": "stdout",
     "output_type": "stream",
     "text": [
      "3\n",
      "-7\n",
      "6.333333333333334\n",
      "3\n",
      "-4\n"
     ]
    }
   ],
   "source": [
    "#A3  In one cell, write 5 different arithmetic expressions mixing + - * / // % ** and parentheses.\n",
    "a = 10\n",
    "b = 3\n",
    "result0 = a + b * b // b % a - a\n",
    "result1 = b ** a // b % a - a\n",
    "result2 = a / b + b * b // b % a\n",
    "result3 = a // b + b * b // b ** a\n",
    "result4 = b % a + b * b // b - a\n",
    "print( result0)\n",
    "print( result1)\n",
    "print( result2)\n",
    "print( result3)\n",
    "print( result4)"
   ]
  },
  {
   "cell_type": "code",
   "execution_count": 49,
   "id": "b00d407f",
   "metadata": {},
   "outputs": [
    {
     "name": "stdout",
     "output_type": "stream",
     "text": [
      "Result is 2\n"
     ]
    }
   ],
   "source": [
    "#B1 Fix the syntax errors (e.g., the print statement) so that the code runs correctly\n",
    "a = 5 \n",
    "b = 2 \n",
    "result = a + b * b ** a // b % a - a \n",
    "print(\"Result is\",result) "
   ]
  },
  {
   "cell_type": "code",
   "execution_count": 50,
   "id": "0e2d7c88",
   "metadata": {},
   "outputs": [
    {
     "name": "stdout",
     "output_type": "stream",
     "text": [
      "2\n"
     ]
    }
   ],
   "source": [
    "#B3,B4 Add comments explaining operator precedence step by step. \n",
    "a = 5\n",
    "# assaigning value 5 to a\n",
    "b = 2\n",
    "# assaigning value 2 to b\n",
    "result = a + b * b ** a // b % a - a\n",
    "# first **,then * , / , // , % and finally + and -\n",
    "# b ** a = 2 ** 5 = 32\n",
    "# 5 + 64 // 2 % 5 - 5\n",
    "# 64 // 2 = 32\n",
    "# 5 + 32 % 5 - 5\n",
    "# 32 % 5 = 2\n",
    "# 5 + 2 - 5\n",
    "# result = 2\n",
    "print( result)"
   ]
  },
  {
   "cell_type": "code",
   "execution_count": 51,
   "id": "4382da26",
   "metadata": {},
   "outputs": [
    {
     "name": "stdout",
     "output_type": "stream",
     "text": [
      "10\n",
      "512\n",
      "True\n",
      "True\n",
      "9\n",
      "22.0\n",
      "12\n",
      "0\n",
      "-6\n",
      "4\n",
      "9\n"
     ]
    }
   ],
   "source": [
    "#C1  First predict output without running. \n",
    "print(10 // 3 * 3 + 10 % 3) \n",
    "# presicted output is 10\n",
    "print(2 ** 3 ** 2) \n",
    "# presicted output is 512\n",
    "print(5 > 3 == 3) \n",
    "# presicted output is True\n",
    "print((7 + 3) * 2 > 15 and not (4 % 2)) \n",
    "# presicted output is True\n",
    "print((True + True) * 5 - (False + True)) \n",
    "# predicted output is 9\n",
    "print(100 / 10 * 2 + 5 // 2) \n",
    "# predicted output is 22\n",
    "print(7 % 4 * 2 ** 2) \n",
    "# predicted output is 12\n",
    "print((3 + 5) * (2 // 3)) \n",
    "# predicted output is 0\n",
    "print(10 - 2 ** 2 ** 2) \n",
    "# predicted output is 2\n",
    "print((10 // 3) ** 2 % 5) \n",
    "# predicted output is 4\n",
    "print((True + False) * 3 ** 2 - (True and False)) \n",
    "# predicted output is 9\n"
   ]
  },
  {
   "cell_type": "markdown",
   "id": "4bc0da2b",
   "metadata": {},
   "source": [
    "When building financial models, the order in which calculations are performed is, as important as the numbers themselves. Computers follow rules,A hierarchy that decides which operation happens first. For example, multiplication is performed before subtraction unless we use parentheses to change the order.\n",
    "(revenue – cost) * tax_rate\n",
    "First, we calculate the profit, Then we apply the tax rate to that profit.\n",
    "revenue – cost * tax_rate\n",
    "cost is multiplied by tax_rate first. That smaller number is then subtracted from revenue.\n",
    "Even with the same numbers, the results are very different. The first is a realistic tax calculation, while the second could give misleading profits. In financial forecasting, such mistakes can distort reports, affect decisions, and potentially cost the business money. Parentheses are used to make the intended order clear and prevent these errors.\n",
    " Interest Formula in Banking\n",
    "Banks generally use the compound interest formula:\n",
    "principal * (1 + rate/n) ** (n * t) parentheses ensure that the rate is divided correctly and added before raising the result to the power of n × t. If we misplaced parentheses-for example, writing principal * 1 + rate/n ** (n * t)-the system would calculate exponentiation first, then add or multiply incorrectly. This could underestimate or overestimate interest dramatically, leading to errors in customer accounts and financial risk. Correct operator precedence guarantees accuracy, trust, and compliance in banking operations."
   ]
  }
 ],
 "metadata": {
  "kernelspec": {
   "display_name": "Python 3",
   "language": "python",
   "name": "python3"
  },
  "language_info": {
   "codemirror_mode": {
    "name": "ipython",
    "version": 3
   },
   "file_extension": ".py",
   "mimetype": "text/x-python",
   "name": "python",
   "nbconvert_exporter": "python",
   "pygments_lexer": "ipython3",
   "version": "3.13.2"
  }
 },
 "nbformat": 4,
 "nbformat_minor": 5
}
