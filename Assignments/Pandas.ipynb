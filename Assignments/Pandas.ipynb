{
 "cells": [
  {
   "cell_type": "code",
   "execution_count": null,
   "id": "fc8df9bc",
   "metadata": {},
   "outputs": [
    {
     "name": "stdout",
     "output_type": "stream",
     "text": [
      "2.3.2\n"
     ]
    }
   ],
   "source": [
    "import pandas as pd\n",
    "print(pd.__version__)"
   ]
  },
  {
   "cell_type": "code",
   "execution_count": null,
   "id": "8e904be9",
   "metadata": {},
   "outputs": [
    {
     "data": {
      "text/plain": [
       "A     200\n",
       "B     400\n",
       "C     600\n",
       "D     800\n",
       "E    1000\n",
       "dtype: int64"
      ]
     },
     "execution_count": 6,
     "metadata": {},
     "output_type": "execute_result"
    }
   ],
   "source": [
    "#1.\n",
    "df = pd.Series([100, 200, 300, 400, 500], index=['A', 'B', 'C', 'D', 'E'])\n",
    "Series2 = df.copy()\n",
    "Series2 = df * 2\n",
    "print(Series2)"
   ]
  },
  {
   "cell_type": "code",
   "execution_count": null,
   "id": "0499a53a",
   "metadata": {},
   "outputs": [],
   "source": [
    "#2.State whether True or False \n",
    "#a. A series object is size mutable.\n",
    "# False. A pandas Series is size immutable, meaning you cannot change its size (number of elements) after creation without creating a new Series.\n",
    "#b.  A Dataframe object is value mutable \n",
    "# True. A pandas DataFrame is value mutable, meaning you can change the values of its elements after creation."
   ]
  },
  {
   "cell_type": "code",
   "execution_count": 26,
   "id": "2d935300",
   "metadata": {},
   "outputs": [
    {
     "data": {
      "text/plain": [
       "0    200\n",
       "1    201\n",
       "2    202\n",
       "3    203\n",
       "4    204\n",
       "5    700\n",
       "6    700\n",
       "7    700\n",
       "8    700\n",
       "9    700\n",
       "dtype: int64"
      ]
     },
     "metadata": {},
     "output_type": "display_data"
    }
   ],
   "source": [
    "#3.\n",
    "s = pd.Series([200,201,202,203,204,700,700,700,700,700])\n",
    "display(s)\n"
   ]
  },
  {
   "cell_type": "code",
   "execution_count": 20,
   "id": "838669d6",
   "metadata": {},
   "outputs": [
    {
     "name": "stdout",
     "output_type": "stream",
     "text": [
      "Ip           95\n",
      "Physics      89\n",
      "Chemistry    92\n",
      "Math         95\n",
      "dtype: int64\n",
      "95\n"
     ]
    },
    {
     "data": {
      "text/plain": [
       "Ip           105\n",
       "Physics       99\n",
       "Chemistry    102\n",
       "Math         105\n",
       "dtype: int64"
      ]
     },
     "execution_count": 20,
     "metadata": {},
     "output_type": "execute_result"
    }
   ],
   "source": [
    "#4.\n",
    "s = pd.Series([95,89,92,95],index=[\"Ip\",\"Physics\",\"Chemistry\",\"Math\"])\n",
    "print(s)\n",
    "#4.1\n",
    "print(s[\"Ip\"])\n",
    "#4.2\n",
    "s = s + 10\n",
    "s"
   ]
  },
  {
   "cell_type": "code",
   "execution_count": 22,
   "id": "f8f1e0c5",
   "metadata": {},
   "outputs": [
    {
     "name": "stdout",
     "output_type": "stream",
     "text": [
      "QTR1    50000\n",
      "QTR2    65890\n",
      "QTR3    56780\n",
      "QTR4    89000\n",
      "QTR5    77900\n",
      "Name: SQTR, dtype: int64\n"
     ]
    }
   ],
   "source": [
    "#5.\n",
    "SQTR = pd.Series([50000,65890,56780,89000,77900],index=[\"QTR1\",\"QTR2\",\"QTR3\",\"QTR4\",\"QTR5\"],name=\"SQTR\")\n",
    "print(SQTR)\n"
   ]
  },
  {
   "cell_type": "code",
   "execution_count": 24,
   "id": "55f0b4fb",
   "metadata": {},
   "outputs": [
    {
     "name": "stdout",
     "output_type": "stream",
     "text": [
      "one s1: 0    False\n",
      "1     True\n",
      "2     True\n",
      "dtype: bool\n",
      "two s1: 1    41\n",
      "2    51\n",
      "dtype: int64\n"
     ]
    }
   ],
   "source": [
    "#6.\n",
    "S1 = pd.Series(data=[31,41,51])\n",
    "print(\"one s1:\",S1>40)\n",
    "print(\"two s1:\",S1[S1>40])"
   ]
  },
  {
   "cell_type": "code",
   "execution_count": 30,
   "id": "b5c088f6",
   "metadata": {},
   "outputs": [
    {
     "data": {
      "text/plain": [
       "A    390.0\n",
       "B    410.0\n",
       "C      NaN\n",
       "D    440.0\n",
       "F      NaN\n",
       "dtype: float64"
      ]
     },
     "execution_count": 30,
     "metadata": {},
     "output_type": "execute_result"
    }
   ],
   "source": [
    "#7.\n",
    "S1 = pd.Series([39,41,42,44],index=[\"A\",\"B\",\"C\",\"D\"])\n",
    "S2 = pd.Series([10,10,10,10],index=[\"A\",\"B\",\"D\",\"F\"])\n",
    "#A\n",
    "S1[:2]*100\n",
    "#B\n",
    "S1*S2"
   ]
  },
  {
   "cell_type": "code",
   "execution_count": 31,
   "id": "8b636f51",
   "metadata": {},
   "outputs": [
    {
     "data": {
      "text/plain": [
       "F    100\n",
       "D    100\n",
       "B    100\n",
       "A    100\n",
       "dtype: int64"
      ]
     },
     "execution_count": 31,
     "metadata": {},
     "output_type": "execute_result"
    }
   ],
   "source": [
    "#C\n",
    "S2[::-1]*10"
   ]
  },
  {
   "cell_type": "code",
   "execution_count": 32,
   "id": "63a20844",
   "metadata": {},
   "outputs": [
    {
     "data": {
      "text/plain": [
       "A     50\n",
       "B     80\n",
       "C    180\n",
       "D    320\n",
       "dtype: int64"
      ]
     },
     "execution_count": 32,
     "metadata": {},
     "output_type": "execute_result"
    }
   ],
   "source": [
    "#8.\n",
    "S1 = pd.Series([10,20,30,40],index=[\"A\",\"B\",\"C\",\"D\"])\n",
    "S2 = pd.Series([5,4,6,8],index=[\"A\",\"B\",\"C\",\"D\"])\n",
    "S1*S2"
   ]
  },
  {
   "cell_type": "code",
   "execution_count": null,
   "id": "887972f0",
   "metadata": {},
   "outputs": [
    {
     "name": "stdout",
     "output_type": "stream",
     "text": [
      "ENGLISH    75\n",
      "HINDI      78\n",
      "MATHS      82\n",
      "SCIENCE    86\n",
      "Name: Subject, dtype: int64\n"
     ]
    }
   ],
   "source": [
    "#9.\n",
    "series=pd.Series([75,78,82,86],index=[\"ENGLISH\",\"HINDI\",\"MATHS\",\"SCIENCE\"],name=\"Subject\")\n",
    "print(series)"
   ]
  },
  {
   "cell_type": "code",
   "execution_count": 47,
   "id": "d1d23f58",
   "metadata": {},
   "outputs": [
    {
     "name": "stdout",
     "output_type": "stream",
     "text": [
      "Index(['TCS', 'L&T'], dtype='object')\n",
      "company profits: TCS         350\n",
      "Reliance    200\n",
      "L&T         800\n",
      "Wipro       150\n",
      "Name: Profit, dtype: int64\n"
     ]
    }
   ],
   "source": [
    "#10.\n",
    "company = pd.Series([350,200,800,150],index=[\"TCS\",\"Reliance\",\"L&T\",\"Wipro\"])\n",
    "print(company[company>250].index)\n",
    "company.name=\"Profit\"\n",
    "print(\"company profits:\",company)"
   ]
  },
  {
   "cell_type": "code",
   "execution_count": 50,
   "id": "f8f411b6",
   "metadata": {},
   "outputs": [
    {
     "name": "stdout",
     "output_type": "stream",
     "text": [
      "0     20\n",
      "1     40\n",
      "2     50\n",
      "3    100\n",
      "dtype: int64\n",
      "0     20\n",
      "1     40\n",
      "2     50\n",
      "3    100\n",
      "dtype: int64\n"
     ]
    }
   ],
   "source": [
    "#11.\n",
    "a = pd.Series([10,20,25,50])\n",
    "b = pd.Series([10,20,25,50])\n",
    "print(a*2)\n",
    "print(b*2)"
   ]
  },
  {
   "cell_type": "code",
   "execution_count": null,
   "id": "bf0f1957",
   "metadata": {},
   "outputs": [],
   "source": [
    "#12.Given a Pandas series called Sample, the command which will display the last 3 rows is.\n",
    "# a. print(Sample.tail(3))\n",
    "# b. print(Sample.Tail(3))\n",
    "# c. print(Sample.tails(3)\n",
    "# d. print(Sample.Tails(3))\n",
    "#ANSWER: a)print(Sample.tail(3))"
   ]
  },
  {
   "cell_type": "code",
   "execution_count": 54,
   "id": "11982b92",
   "metadata": {},
   "outputs": [
    {
     "name": "stdout",
     "output_type": "stream",
     "text": [
      "0    6\n",
      "1    6\n",
      "2    6\n",
      "3    6\n",
      "4    6\n",
      "dtype: int64\n"
     ]
    }
   ],
   "source": [
    "#13.\n",
    "s = pd.Series(6,index=range(0,5))\n",
    "print(s)"
   ]
  },
  {
   "cell_type": "code",
   "execution_count": 55,
   "id": "14d9fde1",
   "metadata": {},
   "outputs": [
    {
     "name": "stdout",
     "output_type": "stream",
     "text": [
      "7     5\n",
      "9     4\n",
      "11    8\n",
      "dtype: int64\n"
     ]
    }
   ],
   "source": [
    "#14.\n",
    "s1 = pd.Series([6,1,3,5,4,8,7,4,6,7],index=[1,3,5,7,9,11,13,15,17,19])\n",
    "print(s1[3:6])"
   ]
  },
  {
   "cell_type": "code",
   "execution_count": 61,
   "id": "9aee1ae3",
   "metadata": {},
   "outputs": [
    {
     "name": "stdout",
     "output_type": "stream",
     "text": [
      "0    10\n",
      "1    20\n",
      "2    30\n",
      "3    40\n",
      "dtype: int64\n",
      "number of dimentionsof the object: 1\n",
      "elements available: (4,)\n",
      "4\n"
     ]
    }
   ],
   "source": [
    "#15\n",
    "import pandas as pd\n",
    "import numpy as np\n",
    "s = pd.Series(np.arange(10,50,10))\n",
    "print(s)\n",
    "print(\"number of dimentionsof the object:\",s.ndim)\n",
    "print(\"elements available:\",s.shape)\n",
    "print(len(s))"
   ]
  },
  {
   "cell_type": "code",
   "execution_count": 65,
   "id": "f216a233",
   "metadata": {},
   "outputs": [
    {
     "name": "stdout",
     "output_type": "stream",
     "text": [
      "0    17\n",
      "1    19\n",
      "2    11\n",
      "3    14\n",
      "4    15\n",
      "5    19\n",
      "6    10\n",
      "7    15\n",
      "8    16\n",
      "9    16\n",
      "dtype: int32\n"
     ]
    }
   ],
   "source": [
    "#16.Write a program to create a Series having 10 random numbers in the range of 10 and 20.\n",
    "s = pd.Series(np.random.randint(10,20,size=10))\n",
    "print(s)"
   ]
  },
  {
   "cell_type": "code",
   "execution_count": 71,
   "id": "9f3dbd74",
   "metadata": {},
   "outputs": [
    {
     "data": {
      "text/plain": [
       "0     5.0\n",
       "1     6.0\n",
       "2     8.0\n",
       "3     0.0\n",
       "4     2.0\n",
       "5    11.0\n",
       "dtype: float64"
      ]
     },
     "execution_count": 71,
     "metadata": {},
     "output_type": "execute_result"
    }
   ],
   "source": [
    "#17.\n",
    "import numpy as np\n",
    "s = pd.Series([4.0, 5.0, 7.0, np.nan, 1.0, 10.0], index=[0, 1, 2, 3, 4, 5])\n",
    "s = s + 1\n",
    "s\n",
    "t = s.fillna(0)\n",
    "t"
   ]
  },
  {
   "cell_type": "code",
   "execution_count": 72,
   "id": "8ecf8305",
   "metadata": {},
   "outputs": [
    {
     "name": "stdout",
     "output_type": "stream",
     "text": [
      "one      a\n",
      "two      b\n",
      "three    c\n",
      "dtype: object\n",
      "3\n"
     ]
    }
   ],
   "source": [
    "#18.Predict the output of the following code.\n",
    "import pandas as pd\n",
    "import numpy as np\n",
    "data = {'one':'a','two':'b','three':'c'}\n",
    "s=pd.Series(data)\n",
    "print(s)\n",
    "print(s.size)\n"
   ]
  },
  {
   "cell_type": "code",
   "execution_count": 73,
   "id": "6d37c4f6",
   "metadata": {},
   "outputs": [
    {
     "data": {
      "text/plain": [
       "0    2\n",
       "1    4\n",
       "2    6\n",
       "3    8\n",
       "dtype: int64"
      ]
     },
     "execution_count": 73,
     "metadata": {},
     "output_type": "execute_result"
    }
   ],
   "source": [
    "#19. Create a Series object S1 using a python sequence [2,4,6,8] and default indices. \n",
    "s1 = pd.Series([2,4,6,8])\n",
    "s1"
   ]
  },
  {
   "cell_type": "code",
   "execution_count": 75,
   "id": "5405b2b5",
   "metadata": {},
   "outputs": [
    {
     "name": "stdout",
     "output_type": "stream",
     "text": [
      "0          i\n",
      "1         am\n",
      "2          a\n",
      "3    student\n",
      "dtype: object\n"
     ]
    }
   ],
   "source": [
    "#20.Write the output of the following code fragment.\n",
    "s2=pd.Series([\"i\",\"am\", \"a\",\"student\"])\n",
    "print(s2) "
   ]
  },
  {
   "cell_type": "code",
   "execution_count": 76,
   "id": "6f6c8c42",
   "metadata": {},
   "outputs": [
    {
     "name": "stdout",
     "output_type": "stream",
     "text": [
      "2     200\n",
      "4     200\n",
      "6     200\n",
      "8     200\n",
      "10    200\n",
      "12    200\n",
      "dtype: int64\n"
     ]
    }
   ],
   "source": [
    "#21.Write the output of the following code fragment.\n",
    "import pandas as pd\n",
    "s1=pd.Series(200,index=range(2,13,2))\n",
    "print(s1) "
   ]
  },
  {
   "cell_type": "code",
   "execution_count": 77,
   "id": "1d3632cd",
   "metadata": {},
   "outputs": [
    {
     "name": "stdout",
     "output_type": "stream",
     "text": [
      "a     2\n",
      "b     4\n",
      "c     6\n",
      "d     8\n",
      "e    10\n",
      "dtype: int64\n"
     ]
    }
   ],
   "source": [
    "#22. Write the output of the following code fragment.\n",
    "s1=pd.Series(range(2,11,2), index=[x for x in\"abcde\"]) \n",
    "print(s1) "
   ]
  },
  {
   "cell_type": "code",
   "execution_count": 78,
   "id": "dcbec911",
   "metadata": {},
   "outputs": [
    {
     "name": "stdout",
     "output_type": "stream",
     "text": [
      "10    20\n",
      "11    22\n",
      "12    24\n",
      "13    26\n",
      "14    28\n",
      "dtype: int64\n",
      "10    100\n",
      "11    121\n",
      "12    144\n",
      "13    169\n",
      "14    196\n",
      "dtype: int64\n"
     ]
    }
   ],
   "source": [
    "#23. fragment. \n",
    "x=np.arange(10,15) \n",
    "s3=pd.Series(index=x, data=x*2) \n",
    "s4=pd.Series(x**2,x) \n",
    "print(s3) \n",
    "print(s4) "
   ]
  },
  {
   "cell_type": "code",
   "execution_count": 89,
   "id": "ca80f472",
   "metadata": {},
   "outputs": [
    {
     "name": "stdout",
     "output_type": "stream",
     "text": [
      "A    17800.0\n",
      "B    17400.0\n",
      "C    15600.0\n",
      "D    13000.0\n",
      "E        NaN\n",
      "dtype: float32\n"
     ]
    }
   ],
   "source": [
    "#24. \n",
    "section = ['A','B','C','D','E']\n",
    "contribution = [8900, 8700, 7800, 6500, None]  \n",
    "series = pd.Series(contribution, index=section, dtype='float32') * 2\n",
    "print(series) "
   ]
  },
  {
   "cell_type": "code",
   "execution_count": 96,
   "id": "c09faf60",
   "metadata": {},
   "outputs": [
    {
     "name": "stdout",
     "output_type": "stream",
     "text": [
      "a     5.25\n",
      "b    15.50\n",
      "a    25.75\n",
      "a    36.00\n",
      "b    46.25\n",
      "dtype: float64\n",
      "a     5.25\n",
      "a    25.75\n",
      "a    36.00\n",
      "dtype: float64\n",
      "b    15.50\n",
      "b    46.25\n",
      "dtype: float64\n"
     ]
    }
   ],
   "source": [
    "#25.\n",
    "import pandas as pd\n",
    "import numpy as np\n",
    "vall = np.arange(5.25, 50, 10.25)\n",
    "serl = pd.Series(vall, index=['a', 'b', 'a', 'a', 'b'])\n",
    "print(serl)\n",
    "print(serl['a'])\n",
    "print(serl['b'])"
   ]
  },
  {
   "cell_type": "code",
   "execution_count": 102,
   "id": "47391603",
   "metadata": {},
   "outputs": [
    {
     "name": "stdout",
     "output_type": "stream",
     "text": [
      "Section A collected: Rs. 3900\n",
      "Section B collected: Rs. 3100\n"
     ]
    }
   ],
   "source": [
    "#26.\n",
    "students = [39, 31, 32, 34, 35]\n",
    "sections = ['A', 'B', 'C', 'D', 'E']\n",
    "s10 = pd.Series(data=students, index=sections, dtype='int')\n",
    "ticket_price = 100\n",
    "collection_A = s10['A'] * ticket_price\n",
    "collection_B = s10['B'] * ticket_price\n",
    "print(f\"Section A collected: Rs. {collection_A}\")\n",
    "print(f\"Section B collected: Rs. {collection_B}\")"
   ]
  },
  {
   "cell_type": "code",
   "execution_count": 105,
   "id": "46b971b6",
   "metadata": {},
   "outputs": [
    {
     "name": "stdout",
     "output_type": "stream",
     "text": [
      "0     1.75\n",
      "1    17.45\n",
      "2   -23.74\n",
      "3   -23.74\n",
      "4    33.76\n",
      "dtype: float64\n"
     ]
    }
   ],
   "source": [
    "#27\n",
    "s4 = pd.Series([2.50,17.45,20.25,87.25,33.76],index=[0,1,2,3,4])\n",
    "s4[0] = 1.75\n",
    "s4[2:4] = -23.74\n",
    "print(s4)"
   ]
  },
  {
   "cell_type": "code",
   "execution_count": 107,
   "id": "e90db1b2",
   "metadata": {},
   "outputs": [
    {
     "name": "stdout",
     "output_type": "stream",
     "text": [
      "a      2.00\n",
      "b    345.60\n",
      "c    -14.65\n",
      "d    -14.65\n",
      "e      6.00\n",
      "dtype: float64\n"
     ]
    },
    {
     "name": "stderr",
     "output_type": "stream",
     "text": [
      "C:\\Users\\16052\\AppData\\Local\\Temp\\ipykernel_16416\\2314578940.py:3: FutureWarning: Setting an item of incompatible dtype is deprecated and will raise an error in a future version of pandas. Value '345.6' has dtype incompatible with int64, please explicitly cast to a compatible dtype first.\n",
      "  s1[1:5:2]=345.6\n"
     ]
    }
   ],
   "source": [
    "#28\n",
    "s1=pd.Series([2,3,4,5,6],index=['a','b','c','d','e']) \n",
    "s1[1:5:2]=345.6 \n",
    "s1[2:4]= -14.65 \n",
    "print(s1) "
   ]
  },
  {
   "cell_type": "code",
   "execution_count": 109,
   "id": "aa49b13e",
   "metadata": {},
   "outputs": [
    {
     "name": "stdout",
     "output_type": "stream",
     "text": [
      "A    8800\n",
      "B    8000\n",
      "C    7700\n",
      "D    7700\n",
      "dtype: int64\n"
     ]
    }
   ],
   "source": [
    "#29\n",
    "s12 = pd.Series([6700, 8000, 5400, 3400], index=['A', 'B', 'C', 'D'])\n",
    "s12['A'] = 8800\n",
    "s12[['C', 'D']] = 7700\n",
    "print(s12)"
   ]
  },
  {
   "cell_type": "code",
   "execution_count": 116,
   "id": "2895d0dd",
   "metadata": {},
   "outputs": [
    {
     "name": "stdout",
     "output_type": "stream",
     "text": [
      "First 100 rows: 0     0.304137\n",
      "1    -1.290029\n",
      "2    -0.848336\n",
      "3    -0.020439\n",
      "4    -0.234880\n",
      "        ...   \n",
      "95   -0.322640\n",
      "96    0.013458\n",
      "97    1.051059\n",
      "98   -2.035309\n",
      "99   -0.008514\n",
      "Length: 100, dtype: float64\n",
      "\n",
      "Last 5 rows: 1995   -1.282118\n",
      "1996   -0.090427\n",
      "1997    1.313732\n",
      "1998    0.185375\n",
      "1999   -0.077978\n",
      "dtype: float64\n"
     ]
    }
   ],
   "source": [
    "#30\n",
    "trainingdata = pd.Series(np.random.randn(2000))\n",
    "print(\"First 100 rows:\",trainingdata.head(100))\n",
    "print(\"\\nLast 5 rows:\",trainingdata.tail(5))"
   ]
  },
  {
   "cell_type": "code",
   "execution_count": 120,
   "id": "ecd2d0bd",
   "metadata": {},
   "outputs": [
    {
     "name": "stdout",
     "output_type": "stream",
     "text": [
      "a     4.5\n",
      "b     6.0\n",
      "c     7.5\n",
      "d     9.0\n",
      "e    10.5\n",
      "dtype: float64\n",
      "a     3.0\n",
      "b     6.0\n",
      "c     9.0\n",
      "d    12.0\n",
      "e    15.0\n",
      "dtype: float64\n",
      "a    False\n",
      "b    False\n",
      "c     True\n",
      "d     True\n",
      "e     True\n",
      "dtype: bool\n",
      "c    4.5\n",
      "d    6.0\n",
      "e    7.5\n",
      "dtype: float64\n"
     ]
    }
   ],
   "source": [
    "#31\n",
    "s3 = pd.Series([1.5,3.0,4.5,6.0,7.5],index=['a','b','c','d','e'])\n",
    "print(s3+3)\n",
    "print(s3*2)\n",
    "print(s3>3.0)\n",
    "print(s3[s3>3.0])"
   ]
  },
  {
   "cell_type": "code",
   "execution_count": 122,
   "id": "924f27e5",
   "metadata": {},
   "outputs": [
    {
     "name": "stdout",
     "output_type": "stream",
     "text": [
      "0    6700\n",
      "1    8000\n",
      "2    5400\n",
      "3    3400\n",
      "dtype: int64\n"
     ]
    }
   ],
   "source": [
    "#32\n",
    "s12 = pd.Series([6700,8000,5400,3400])\n",
    "print(s12)"
   ]
  },
  {
   "cell_type": "code",
   "execution_count": 147,
   "id": "9d69d66b",
   "metadata": {},
   "outputs": [
    {
     "name": "stdout",
     "output_type": "stream",
     "text": [
      "A    6700\n",
      "B    8000\n",
      "dtype: int64\n",
      "Science       190\n",
      "Commerce      170\n",
      "Humanities    170\n",
      "dtype: int64\n"
     ]
    }
   ],
   "source": [
    "#33\n",
    "s12 = pd.Series([6700, 8000, 5400, 3400], index=['A', 'B', 'C', 'D'])\n",
    "print(s12[s12 > 5600])\n",
    "c11 = pd.Series([100, 90, 80], index=['Science', 'Commerce', 'Humanities'])\n",
    "c12 = pd.Series([90, 80, 90], index=['Science', 'Commerce', 'Humanities'])\n",
    "total_students = c11 + c12\n",
    "print(total_students)"
   ]
  },
  {
   "cell_type": "code",
   "execution_count": null,
   "id": "b85f423c",
   "metadata": {},
   "outputs": [
    {
     "name": "stdout",
     "output_type": "stream",
     "text": [
      "5     NaN\n",
      "10    2.0\n",
      "15    NaN\n",
      "20    5.0\n",
      "25    NaN\n",
      "30    8.0\n",
      "35    NaN\n",
      "40    NaN\n",
      "50    NaN\n",
      "dtype: float64\n",
      "10   NaN\n",
      "20   NaN\n",
      "30   NaN\n",
      "40   NaN\n",
      "50   NaN\n",
      "a    NaN\n",
      "b    NaN\n",
      "c    NaN\n",
      "d    NaN\n",
      "e    NaN\n",
      "dtype: float64\n",
      "5     NaN\n",
      "10    0.0\n",
      "15    NaN\n",
      "20   -1.0\n",
      "25    NaN\n",
      "30   -2.0\n",
      "35    NaN\n",
      "40    NaN\n",
      "50    NaN\n",
      "dtype: float64\n"
     ]
    }
   ],
   "source": [
    "#34\n",
    "s1 = pd.Series([1,2,3,4,5], index=[10,20,30,40,50])\n",
    "s2 = pd.Series([0,1,2,3,4,5,6], index=[5,10,15,20,25,30,35])\n",
    "s3 = pd.Series([3,6,9,10,11], index=['a','b','c','d','e'])\n",
    "print(s1 + s2)\n",
    "print(s1*s3)\n",
    "print(s1-s2)"
   ]
  },
  {
   "cell_type": "code",
   "execution_count": 138,
   "id": "9b9ce2d0",
   "metadata": {},
   "outputs": [
    {
     "data": {
      "text/plain": [
       "D    6700\n",
       "A    8000\n",
       "B    5400\n",
       "C    3400\n",
       "dtype: int64"
      ]
     },
     "execution_count": 138,
     "metadata": {},
     "output_type": "execute_result"
    }
   ],
   "source": [
    "#35\n",
    "s12 = pd.Series([6700,8000,5400,3400], index=['D','A','B','C'])\n",
    "#(i)\n",
    "s12.sort_values(ascending=False)\n",
    "s12"
   ]
  },
  {
   "cell_type": "code",
   "execution_count": 139,
   "id": "250b25e0",
   "metadata": {},
   "outputs": [
    {
     "name": "stdout",
     "output_type": "stream",
     "text": [
      "['A', 'B', 'C', 'D']\n"
     ]
    }
   ],
   "source": [
    "#(ii)\n",
    "print(sorted(s12.index))"
   ]
  },
  {
   "cell_type": "code",
   "execution_count": null,
   "id": "10f78487",
   "metadata": {},
   "outputs": [],
   "source": [
    "#36\n",
    "# The code produces an error because the Series object s13 has 4 elements (indices 'A', 'B', 'C', 'D'), \n",
    "# but you are trying to assign a new index of length 5 (range(0,5)). \n",
    "# The length of the new index must match the number of elements in the Series."
   ]
  },
  {
   "cell_type": "code",
   "execution_count": 141,
   "id": "0b99bbda",
   "metadata": {},
   "outputs": [
    {
     "name": "stdout",
     "output_type": "stream",
     "text": [
      "Series1: 0    7\n",
      "1    8\n",
      "2    9\n",
      "3    7\n",
      "4    8\n",
      "5    9\n",
      "dtype: int64\n",
      "Series2: 0    14\n",
      "1    16\n",
      "2    18\n",
      "dtype: int64\n"
     ]
    }
   ],
   "source": [
    "#37\n",
    "import pandas as pd \n",
    "first=[7,8,9] \n",
    "second=pd.Series(first) \n",
    "s1=pd.Series(data=first*2) \n",
    "s2=pd.Series(data=second*2) \n",
    "print(\"Series1:\",s1)\n",
    "print(\"Series2:\",s2) "
   ]
  },
  {
   "cell_type": "code",
   "execution_count": 142,
   "id": "53ad929c",
   "metadata": {},
   "outputs": [
    {
     "name": "stdout",
     "output_type": "stream",
     "text": [
      "0    Mon\n",
      "1    Tue\n",
      "2    Wed\n",
      "3    Thu\n",
      "dtype: object\n",
      "3     Thu\n",
      "4     Fri\n",
      "5     Sat\n",
      "6     Sun\n",
      "dtype: object\n"
     ]
    }
   ],
   "source": [
    "#38\n",
    "data=np.array(['Mon','Tue','Wed','Thu','Fri','Sat',' Sun']) \n",
    "s=pd.Series(data) \n",
    "print(s[:4]) \n",
    "print(s[-4:]) "
   ]
  },
  {
   "cell_type": "code",
   "execution_count": 143,
   "id": "f0168f82",
   "metadata": {},
   "outputs": [
    {
     "name": "stdout",
     "output_type": "stream",
     "text": [
      "103     Wed\n",
      "105     Fri\n",
      "107     Sun\n",
      "dtype: object\n"
     ]
    }
   ],
   "source": [
    "#39\n",
    "data=np.array(['Mon','Tue','Wed','Thu','Fri','Sat',' Sun']) \n",
    "s=pd.Series(data, index=[101,102,103,104,105,106,107]) \n",
    "print(s[[103,105,107]]) "
   ]
  },
  {
   "cell_type": "code",
   "execution_count": 144,
   "id": "7d8a81a8",
   "metadata": {},
   "outputs": [
    {
     "name": "stdout",
     "output_type": "stream",
     "text": [
      "b    11.0\n",
      "c    12.0\n",
      "d     NaN\n",
      "a    10.0\n",
      "dtype: float64\n"
     ]
    }
   ],
   "source": [
    "#40\n",
    "D={'a':10,'b':11,'c':12}\n",
    "S=pd.Series(D,index=['b','c','d','a'])\n",
    "print(S)"
   ]
  }
 ],
 "metadata": {
  "kernelspec": {
   "display_name": "Python 3",
   "language": "python",
   "name": "python3"
  },
  "language_info": {
   "codemirror_mode": {
    "name": "ipython",
    "version": 3
   },
   "file_extension": ".py",
   "mimetype": "text/x-python",
   "name": "python",
   "nbconvert_exporter": "python",
   "pygments_lexer": "ipython3",
   "version": "3.13.2"
  }
 },
 "nbformat": 4,
 "nbformat_minor": 5
}
