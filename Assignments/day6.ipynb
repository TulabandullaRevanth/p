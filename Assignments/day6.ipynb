{
 "cells": [
  {
   "cell_type": "code",
   "execution_count": null,
   "id": "55a732bb",
   "metadata": {},
   "outputs": [
    {
     "name": "stdout",
     "output_type": "stream",
     "text": [
      "13\n"
     ]
    }
   ],
   "source": [
    "#1. A soldier wants to buy w bananas in the shop. He has to pay k dollars for the first banana, 2k dollars for the second one and so on (in other words, he has to pay i·k dollars for the i-th banana).\n",
    "#He has n dollars. How many dollars does he have to borrow from his friend soldier to buy w bananas?\n",
    "#Input\n",
    "#The first line contains three positive integers k, n, w (1  ≤  k, w  ≤  1000, 0 ≤ n ≤ 109), the cost of the first banana, initial number of dollars the soldier has and number of bananas he wants.\n",
    "k, n, w = map(int, input().split())\n",
    "total_cost = k * (w * (w + 1)) // 2\n",
    "if total_cost > n:\n",
    "    print(total_cost - n)\n",
    "else:\n",
    "    print(0)"
   ]
  },
  {
   "cell_type": "code",
   "execution_count": null,
   "id": "dafc36f1",
   "metadata": {},
   "outputs": [
    {
     "name": "stdout",
     "output_type": "stream",
     "text": [
      "Weird\n"
     ]
    }
   ],
   "source": [
    "#2. Given an integer, , perform the following conditional actions:\n",
    "#If n is odd, print Weird\n",
    "#If n is even and in the inclusive range of 2 to 5 , print Not Weird\n",
    "#If n is even and in the inclusive range of 6 to 20 , print Weird\n",
    "#If n is even and greater than 20, print Not Weird\n",
    "#Input Format:\n",
    "#A single line containing a positive integer,n.\n",
    "n = int(input())\n",
    "if n % 2 != 0:\n",
    "    print(\"Weird\")    #odd input numbers are weird\n",
    "elif 1 <= n <= 100:   #even input numbers are not weird\n",
    "    print(\"Not Weird\") "
   ]
  },
  {
   "cell_type": "code",
   "execution_count": 9,
   "id": "b94c6cae",
   "metadata": {},
   "outputs": [
    {
     "name": "stdout",
     "output_type": "stream",
     "text": [
      "Hello, World!\n"
     ]
    }
   ],
   "source": [
    "#3. Here is a sample line of code that can be executed in Python:\n",
    "#>>> print \"Hello, World!\"\n",
    "#Input Format :\n",
    "#You do not need to read any input in this challenge.\n",
    "#Output Format :\n",
    "# Print Hello, World! to stdout.\n",
    "print(\"Hello, World!\") "
   ]
  },
  {
   "cell_type": "code",
   "execution_count": 11,
   "id": "0132c3a5",
   "metadata": {},
   "outputs": [
    {
     "name": "stdout",
     "output_type": "stream",
     "text": [
      "5\n",
      "1\n",
      "6\n"
     ]
    }
   ],
   "source": [
    "#4. Task\n",
    "#The provided code stub reads two integers from STDIN,  and . Add code to print three lines where:\n",
    "#The first line contains the sum of the two numbers.\n",
    "#The second line contains the difference of the two numbers (first - second).\n",
    "#The third line contains the product of the two numbers.\n",
    "#Input Format\n",
    "3\n",
    "2\n",
    "#output Format\n",
    "5\n",
    "1\n",
    "6\n",
    "a = int(input())\n",
    "b = int(input())\n",
    "print(a + b)\n",
    "print(a - b)\n",
    "print(a * b)"
   ]
  },
  {
   "cell_type": "code",
   "execution_count": null,
   "id": "04557616",
   "metadata": {},
   "outputs": [
    {
     "name": "stdout",
     "output_type": "stream",
     "text": [
      "1\n",
      "1.3333333333333333\n"
     ]
    }
   ],
   "source": [
    "#5. Task\n",
    "# The provided code stub reads two integers, a and b , from STDIN.\n",
    "# Add logic to print two lines. The first line should contain the result of integer division,a // b . The second line should contain the result of float division, a / b .\n",
    "# No rounding or formatting is necessary.\n",
    "# input format :\n",
    "# The first line contains the first integer, a.\n",
    "# The second line contains the second integer , b.\n",
    "# 4\n",
    "# 3\n",
    "# output formay :\n",
    "# print 1\n",
    "#       1.3\n",
    "if __name__ == '__main__':\n",
    "    a = int(input())\n",
    "    b = int(input())\n",
    "print(a//b)\n",
    "print(a/b)"
   ]
  },
  {
   "cell_type": "code",
   "execution_count": 2,
   "id": "663fc5d3",
   "metadata": {},
   "outputs": [
    {
     "name": "stdout",
     "output_type": "stream",
     "text": [
      "0\n",
      "1\n",
      "4\n",
      "9\n",
      "16\n"
     ]
    }
   ],
   "source": [
    "#6. Task\n",
    "# The provided code stub reads an integer,n , from STDIN. For all non-negative integersi<n , print i^2 .\n",
    "# Input Format\n",
    "# The first and only line contains the integer,n.\n",
    "# output format:\n",
    "#Print n lines, one corresponding to each i.\n",
    "n = int(input())\n",
    "for i in range(n):\n",
    "    print(i**2)\n"
   ]
  },
  {
   "cell_type": "code",
   "execution_count": 9,
   "id": "d662af81",
   "metadata": {},
   "outputs": [
    {
     "name": "stdout",
     "output_type": "stream",
     "text": [
      "1 2 3 "
     ]
    }
   ],
   "source": [
    "#7. The included code stub will read an integer,n , from STDIN.\n",
    "#Without using any string methods, try to print the following: 123...n\n",
    "#Note that \"...\" represents the consecutive values in between.\n",
    "# Input Format :\n",
    "#The first line contains an integer.\n",
    "# output format :\n",
    "# Print the list of integers from  through  as a string, without spaces.\n",
    "if __name__ == \"__main__\":\n",
    "  n = int(input())\n",
    "for i in range(1,n+1):\n",
    "  print(i, end= \" \")\n",
    "    "
   ]
  },
  {
   "cell_type": "code",
   "execution_count": 13,
   "id": "25bbec42",
   "metadata": {},
   "outputs": [
    {
     "name": "stdout",
     "output_type": "stream",
     "text": [
      "1\n"
     ]
    }
   ],
   "source": [
    "#8.  Bear Limak wants to become the largest of bears, or at least to become larger than his brother Bob.\n",
    "#Right now, Limak and Bob weigh a and b respectively. It's guaranteed that Limak's weight is smaller than or equal to his brother's weight.\n",
    "#Limak eats a lot and his weight is tripled after every year, while Bob's weight is doubled after every year.\n",
    "#After how many full years will Limak become strictly larger (strictly heavier) than Bob?\n",
    "#Input\n",
    "#The only line of the input contains two integers a and b (1 ≤ a ≤ b ≤ 10) — the weight of Limak and the weight of Bob respectively.\n",
    "#Output\n",
    "#Print one integer, denoting the integer number of years after which Limak will become strictly larger than Bob.\n",
    "a, b = map(int, input().split())\n",
    "years = 0\n",
    "while a <= b:\n",
    "    a *= 3\n",
    "    b *= 2\n",
    "    years += 1\n",
    "print(years)"
   ]
  },
  {
   "cell_type": "code",
   "execution_count": 20,
   "id": "24791603",
   "metadata": {},
   "outputs": [
    {
     "name": "stdout",
     "output_type": "stream",
     "text": [
      "3\n"
     ]
    }
   ],
   "source": [
    "#9. One day three best friends Petya, Vasya and Tonya decided to form a team and take part in programming contests. Participants are usually offered several problems during programming contests. Long before the start the friends decided that they will implement a problem if at least two of them are sure about the solution. Otherwise, the friends won't write the problem's solution.\n",
    "#This contest offers n problems to the participants. For each problem we know, which friend is sure about the solution. Help the friends find the number of problems for which they will write a solution.\n",
    "#Input\n",
    "#The first input line contains a single integer n (1 ≤ n ≤ 1000) — the number of problems in the contest. Then n lines contain three integers each, each integer is either 0 or 1. If the first number in the line equals 1, then Petya is sure about the problem's solution, otherwise he isn't sure. The second number shows Vasya's view on the solution, the third number shows Tonya's view. The numbers on the lines are separated by spaces.\n",
    "#Output\n",
    "#Print a single integer — the number of problems the friends will implement on the contest.\n",
    "count = 0\n",
    "for _ in range(n):\n",
    "    friends = list(map(int, input().split()))\n",
    "    if sum(friends) >= 1:\n",
    "        count += 1\n",
    "print(count)"
   ]
  }
 ],
 "metadata": {
  "kernelspec": {
   "display_name": "Python 3",
   "language": "python",
   "name": "python3"
  },
  "language_info": {
   "codemirror_mode": {
    "name": "ipython",
    "version": 3
   },
   "file_extension": ".py",
   "mimetype": "text/x-python",
   "name": "python",
   "nbconvert_exporter": "python",
   "pygments_lexer": "ipython3",
   "version": "3.13.2"
  }
 },
 "nbformat": 4,
 "nbformat_minor": 5
}
