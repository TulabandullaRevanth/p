{
 "cells": [
  {
   "cell_type": "code",
   "execution_count": 86,
   "id": "e3fb436b",
   "metadata": {},
   "outputs": [
    {
     "name": "stdout",
     "output_type": "stream",
     "text": [
      "Total Sales: 1035\n",
      "Average Sales: 147.85714285714286\n",
      "Weekdays Sales: [120, 135, 150, 160, 145]\n",
      "Weekend Sales: [170, 155]\n"
     ]
    }
   ],
   "source": [
    "#1. A company recorded daily sales for 7 days as [120, 135, 150, 160, 145, 170, 155]. \n",
    "# Write a program to compute the total and average sales. \n",
    "# Use list slicing to print sales for weekdays (first 5) and weekend (last 2).\n",
    "sales = [120, 135, 150, 160, 145, 170, 155]\n",
    "total_sales = sum(sales)\n",
    "average_sales = total_sales / len(sales)\n",
    "weekdays_sales = sales[:5]\n",
    "weekend_sales = sales[5:]\n",
    "print(f\"Total Sales: {total_sales}\")\n",
    "print(f\"Average Sales: {average_sales}\")\n",
    "print(f\"Weekdays Sales: {weekdays_sales}\")\n",
    "print(f\"Weekend Sales: {weekend_sales}\")"
   ]
  },
  {
   "cell_type": "code",
   "execution_count": 87,
   "id": "eaa9c6dd",
   "metadata": {},
   "outputs": [
    {
     "name": "stdout",
     "output_type": "stream",
     "text": [
      "Even numbers: [2, 4, 6, 8, 10]\n"
     ]
    }
   ],
   "source": [
    "#2. Write a Python program that accepts a list of numbers from the user and prints a new list containing only the even numbers using a list comprehension.\n",
    "list = [1,2,3,4,5,6,7,8,9,10]\n",
    "even_numbers = [num for num in list if num % 2 == 0]\n",
    "print(\"Even numbers:\", even_numbers)"
   ]
  },
  {
   "cell_type": "code",
   "execution_count": 88,
   "id": "d26d1394",
   "metadata": {},
   "outputs": [
    {
     "name": "stdout",
     "output_type": "stream",
     "text": [
      "student marks more than 75: ['Alice', 'Clara', 'David']\n",
      "student result as pass or fail: {'Alice': 'Pass', 'Bob': 'Fail', 'Clara': 'Pass', 'David': 'Pass'}\n"
     ]
    }
   ],
   "source": [
    "#3.  Given a dictionary of students and their marks: marks = {\"Alice\": 82, \"Bob\": 67, \"Clara\": 91, \"David\": 76} \n",
    "# Print all student names who scored more than 75. \n",
    "# Create a new dictionary with student names as keys and \"Pass\"/\"Fail\" as values. \n",
    "marks = {\"Alice\": 82, \"Bob\": 67, \"Clara\": 91, \"David\": 76}\n",
    "passed_students = [name for name, score in marks.items() if score > 75]\n",
    "print(\"student marks more than 75:\",passed_students)\n",
    "result = {name: (\"Pass\" if score >= 75 else \"Fail\") for name, score in marks.items()}\n",
    "print(\"student result as pass or fail:\",result) "
   ]
  },
  {
   "cell_type": "code",
   "execution_count": 89,
   "id": "33857903",
   "metadata": {},
   "outputs": [
    {
     "name": "stdout",
     "output_type": "stream",
     "text": [
      "Character count using regular dictionary: {'p': 2, 'y': 1, 't': 1, 'h': 1, 'o': 2, 'n': 2, ' ': 1, 'r': 2, 'g': 2, 'a': 1, 'm': 2, 'i': 1}\n"
     ]
    }
   ],
   "source": [
    "#4.  Create a program that counts how many times each character occurs in the string \"python programming\". Use both:\n",
    "# a regular dictionary with get() \n",
    "# a defaultdict(int) \n",
    "from collections import defaultdict\n",
    "string = \"python programming\"\n",
    "char_count = {} \n",
    "for char in string:\n",
    "    char_count[char]= char_count.get(char, 0) + 1\n",
    "print(\"Character count using regular dictionary:\", char_count)\n",
    "char_count = defaultdict(int)\n"
   ]
  },
  {
   "cell_type": "code",
   "execution_count": 90,
   "id": "0715ced2",
   "metadata": {},
   "outputs": [
    {
     "name": "stdout",
     "output_type": "stream",
     "text": [
      "Unpacked values: a=10, b=20, c=30, d=40, e=40\n",
      "swapped tuple: (50, 20, 30, 40, 10)\n"
     ]
    }
   ],
   "source": [
    "#5. Write a Python program that takes a tuple of numbers (10, 20, 30, 40, 50) and: \n",
    "# Unpacks it into variables a, b, c, d, e. \n",
    "# Swaps the first and last values using tuple unpacking.\n",
    "numbers = (10, 20, 30, 40, 50)\n",
    "a, b, c, d, e = numbers\n",
    "print(f\"Unpacked values: a={a}, b={b}, c={c}, d={d}, e={d}\")\n",
    "a, e = e, a\n",
    "swapped_numbers = (a, b, c, d, e) \n",
    "print (f\"swapped tuple: {swapped_numbers}\")"
   ]
  },
  {
   "cell_type": "code",
   "execution_count": 91,
   "id": "7934d176",
   "metadata": {},
   "outputs": [
    {
     "name": "stdout",
     "output_type": "stream",
     "text": [
      "Students who play both games: {'Mike', 'Sara'}\n",
      "Students who play only one game: {'Tom', 'Emma', 'Bob', 'John'}\n"
     ]
    }
   ],
   "source": [
    "#6. Two sets represent students who play Cricket and Football: cricket = {\"John\", \"Mike\", \"Sara\", \"Bob\"} football = {\"Mike\", \"Tom\", \"Sara\", \"Emma\"} \n",
    "# Find students who play both games. \n",
    "# Find students who play only one game.\n",
    "cricket = {\"John\", \"Mike\", \"Sara\", \"Bob\"}\n",
    "football = {\"Mike\", \"Tom\", \"Sara\", \"Emma\"}\n",
    "both_games = cricket.intersection(football)\n",
    "one_game = cricket.symmetric_difference(football)\n",
    "print(\"Students who play both games:\", both_games)\n",
    "print(\"Students who play only one game:\", one_game)"
   ]
  },
  {
   "cell_type": "code",
   "execution_count": 1,
   "id": "c450efc1",
   "metadata": {},
   "outputs": [
    {
     "name": "stdout",
     "output_type": "stream",
     "text": [
      "Factorial of 5 using loop: 120\n",
      "Factorial of 5 using recursion: 120\n"
     ]
    }
   ],
   "source": [
    "#7. Write a function factorial(n) that uses a loop to calculate factorial.Then write another version using recursion. Compare the results\n",
    "def factorial(n):\n",
    "    result = 1\n",
    "    for i in range(1, n + 1): \n",
    "        result *= i\n",
    "    return result   \n",
    "def recursive_factorial(n):\n",
    "    if n == 0 or n == 1:\n",
    "        return 1\n",
    "    else:\n",
    "        return n * recursive_factorial(n - 1)\n",
    "num = 5\n",
    "print(f\"Factorial of {num} using loop: {factorial(num)}\")\n",
    "print(f\"Factorial of {num} using recursion: {recursive_factorial(num)}\")"
   ]
  },
  {
   "cell_type": "code",
   "execution_count": 37,
   "id": "9ac438de",
   "metadata": {},
   "outputs": [
    {
     "name": "stdout",
     "output_type": "stream",
     "text": [
      "Positional arguments list: ('Revanth', 'Sunil')\n",
      "Keyword arguments dictionary: {'age': 23, 'grade': 'A'}\n"
     ]
    }
   ],
   "source": [
    "#8.  Write a function student_info(*args, **kwargs) that: \n",
    "# Prints all positional arguments as a list. \n",
    "# Prints all keyword arguments as a dictionary. Call it with example inputs. \n",
    "def student_info(*args, **kwargs):\n",
    "    print(\"Positional arguments list:\", args)\n",
    "    print(\"Keyword arguments dictionary:\", kwargs)\n",
    "student_info(\"Revanth\",\"Sunil\", age = 23,grade=\"A\")"
   ]
  },
  {
   "cell_type": "code",
   "execution_count": null,
   "id": "9c09c5a3",
   "metadata": {},
   "outputs": [
    {
     "name": "stdout",
     "output_type": "stream",
     "text": [
      "Counter: 1\n",
      "Counter: 2\n",
      "Counter: 3\n",
      "Counter: 4\n",
      "Counter: 5\n"
     ]
    }
   ],
   "source": [
    "#9. Write a closure function make_counter() that returns a function increment() which increases a count by 1 every time it is called. Demonstrate it by calling 5 times.\n",
    "def make_counter():\n",
    "    count = 0\n",
    "    def increment():\n",
    "        nonlocal count\n",
    "        count += 1\n",
    "        return count\n",
    "    return increment\n",
    "counter = make_counter()\n",
    "x = 0\n",
    "for x in range(0,5):\n",
    "    print(\"Counter:\", counter())"
   ]
  },
  {
   "cell_type": "code",
   "execution_count": 47,
   "id": "0204a417",
   "metadata": {},
   "outputs": [
    {
     "name": "stdout",
     "output_type": "stream",
     "text": [
      "Function has been called 1 times.\n",
      "Function has been called 2 times.\n",
      "Function has been called 3 times.\n",
      "Function has been called 4 times.\n",
      "Function has been called 5 times.\n"
     ]
    }
   ],
   "source": [
    "#10. Use the global keyword to maintain a variable visits that counts how many times a function track_visits() has been called. Show its behavior.\n",
    "visits = 0\n",
    "def track_visits():\n",
    "    global visits\n",
    "    visits += 1\n",
    "    print(f\"Function has been called {visits} times.\")\n",
    "track_visits()\n",
    "track_visits()\n",
    "track_visits()\n",
    "track_visits()\n",
    "track_visits()"
   ]
  },
  {
   "cell_type": "code",
   "execution_count": null,
   "id": "44541d74",
   "metadata": {},
   "outputs": [
    {
     "name": "stdout",
     "output_type": "stream",
     "text": [
      "3.0\n",
      "6.1\n"
     ]
    }
   ],
   "source": [
    "#11.  Define a function with type hints: \n",
    "#      def average(nums: list[float]) -> float: \n",
    "#      It should return the average of the list values. Test it with both integers and floats.\n",
    "def average(nums: list[float]) -> float:\n",
    "    return sum(nums) / len(nums)\n",
    "print(average([1, 2, 3, 4, 5]))\n",
    "print(average([7.5, 8.5, 3.5, 5.5, 5.5])) "
   ]
  },
  {
   "cell_type": "code",
   "execution_count": 1,
   "id": "7529a076",
   "metadata": {},
   "outputs": [
    {
     "name": "stdout",
     "output_type": "stream",
     "text": [
      "List of squares from 1 to 10: [1, 4, 9, 16, 25, 36, 49, 64, 81, 100]\n",
      "Dictionary of numbers to their cubes: {1: 1, 2: 8, 3: 27, 4: 64, 5: 125, 6: 216, 7: 343, 8: 512, 9: 729, 10: 1000}\n"
     ]
    }
   ],
   "source": [
    "#12. Write a Python program that: \n",
    "# Creates a list of squares from 1–10 using a list comprehension. \n",
    "# Creates a dictionary mapping numbers 1–10 to their cubes using a dictionary comprehension. \n",
    "# Creates a set of all remainders when numbers 1–20 are divided by 5 using a set comprehension.\n",
    "sequence = range(1,11)\n",
    "sequence = [x**2 for x in range(1,11)]\n",
    "print(\"List of squares from 1 to 10:\", sequence)\n",
    "cubes = {x: x**3 for x in range(1, 11)}\n",
    "print(\"Dictionary of numbers to their cubes:\", cubes)"
   ]
  },
  {
   "cell_type": "code",
   "execution_count": 57,
   "id": "ec005ef6",
   "metadata": {},
   "outputs": [
    {
     "name": "stdout",
     "output_type": "stream",
     "text": [
      "Dictionary after deleting keys: {}\n"
     ]
    }
   ],
   "source": [
    "#13. Given the dictionary: d = {\"a\": 1, \"b\": 2, \"c\": 3} Try deleting keys while iterating. Catch the error and then show the correct way using list(d.keys()).\n",
    "d = {\"a\": 1, \"b\": 2, \"c\": 3}\n",
    "for key in list(d.keys()):\n",
    "    del d[key]\n",
    "print(\"Dictionary after deleting keys:\", d)"
   ]
  },
  {
   "cell_type": "code",
   "execution_count": 58,
   "id": "0de4af47",
   "metadata": {},
   "outputs": [
    {
     "name": "stdout",
     "output_type": "stream",
     "text": [
      "Flattened list: [1, 2, 3, 4, 5, 6]\n"
     ]
    }
   ],
   "source": [
    "#14. Write a Python program to flatten this nested list using a nested loop comprehension: matrix = [[1, 2], [3, 4, 5], [6]] Expected Output: [1, 2, 3, 4, 5, 6]\n",
    "matrix = [[1, 2], [3, 4, 5], [6]]\n",
    "flatten = [num for row in matrix for num in row]\n",
    "print(\"Flattened list:\", flatten)"
   ]
  },
  {
   "cell_type": "code",
   "execution_count": 3,
   "id": "418c66b3",
   "metadata": {},
   "outputs": [
    {
     "name": "stdout",
     "output_type": "stream",
     "text": [
      "The most frequent word is 'physics' with a frequency of 1.\n"
     ]
    }
   ],
   "source": [
    "#15. Create a program to find the most frequent word in a sentence entered by the user. Print the word and its frequency.\n",
    "sentence = input(\"enter a sentence:\")\n",
    "words = sentence.split()\n",
    "word_count = {}\n",
    "for word in words:\n",
    "    word = word.lower()\n",
    "    word_count[word] = word_count.get(word, 0) + 1\n",
    "most_frequent_word = max(word_count, key=word_count.get)\n",
    "print(f\"The most frequent word is '{most_frequent_word}' with a frequency of {word_count[most_frequent_word]}.\")\n"
   ]
  }
 ],
 "metadata": {
  "kernelspec": {
   "display_name": "Python 3",
   "language": "python",
   "name": "python3"
  },
  "language_info": {
   "codemirror_mode": {
    "name": "ipython",
    "version": 3
   },
   "file_extension": ".py",
   "mimetype": "text/x-python",
   "name": "python",
   "nbconvert_exporter": "python",
   "pygments_lexer": "ipython3",
   "version": "3.13.2"
  }
 },
 "nbformat": 4,
 "nbformat_minor": 5
}
