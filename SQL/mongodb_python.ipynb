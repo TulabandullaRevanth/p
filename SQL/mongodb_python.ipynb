{
 "cells": [
  {
   "cell_type": "code",
   "execution_count": 10,
   "id": "76902304",
   "metadata": {},
   "outputs": [],
   "source": [
    "import pymongo"
   ]
  },
  {
   "cell_type": "code",
   "execution_count": 11,
   "id": "70a2ffd2",
   "metadata": {},
   "outputs": [],
   "source": [
    "from pymongo import MongoClient"
   ]
  },
  {
   "cell_type": "code",
   "execution_count": 12,
   "id": "47bcb0d3",
   "metadata": {},
   "outputs": [],
   "source": [
    "import pymongo\n",
    "# mongoclient = [\"localhost\"]\n",
    "myclient = pymongo.MongoClient(\"mongodb://localhost:27017/\")\n",
    "mydb = myclient[\"mydatabase\"]"
   ]
  },
  {
   "cell_type": "code",
   "execution_count": 13,
   "id": "88c4f909",
   "metadata": {},
   "outputs": [
    {
     "name": "stdout",
     "output_type": "stream",
     "text": [
      "['admin', 'config', 'local', 'mydatabase']\n"
     ]
    }
   ],
   "source": [
    "print(myclient.list_database_names())"
   ]
  },
  {
   "cell_type": "code",
   "execution_count": 14,
   "id": "f2587608",
   "metadata": {},
   "outputs": [
    {
     "name": "stdout",
     "output_type": "stream",
     "text": [
      "the database exist.\n"
     ]
    }
   ],
   "source": [
    "dblist = myclient.list_database_names()\n",
    "if \"mydatabase\" in dblist:\n",
    "    print(\"the database exist.\")"
   ]
  },
  {
   "cell_type": "code",
   "execution_count": 15,
   "id": "e669ced1",
   "metadata": {},
   "outputs": [],
   "source": [
    "mycol = mydb[\"customers\"]"
   ]
  },
  {
   "cell_type": "code",
   "execution_count": 16,
   "id": "97d70973",
   "metadata": {},
   "outputs": [
    {
     "name": "stdout",
     "output_type": "stream",
     "text": [
      "The collection exist\n"
     ]
    }
   ],
   "source": [
    "collist = mydb.list_collection_names()\n",
    "if \"customers\" in collist:\n",
    "    print(\"The collection exist\")"
   ]
  },
  {
   "cell_type": "code",
   "execution_count": 17,
   "id": "fd9eeef3",
   "metadata": {},
   "outputs": [
    {
     "name": "stdout",
     "output_type": "stream",
     "text": [
      "['customers']\n"
     ]
    }
   ],
   "source": [
    "print(mydb.list_collection_names())"
   ]
  },
  {
   "cell_type": "code",
   "execution_count": 18,
   "id": "da568dc1",
   "metadata": {},
   "outputs": [],
   "source": [
    "mydict = {\"name\":\"john\",   \"address\":\n",
    "          \"Highway 37\"}\n",
    "x = mycol.insert_one(mydict)"
   ]
  },
  {
   "cell_type": "code",
   "execution_count": 20,
   "id": "d337168b",
   "metadata": {},
   "outputs": [
    {
     "name": "stdout",
     "output_type": "stream",
     "text": [
      "data inserted .....\n",
      "Collection(Database(MongoClient(host=['localhost:27017'], document_class=dict, tz_aware=False, connect=True), 'mydatabase'), 'customers.inserted_ids')\n"
     ]
    }
   ],
   "source": [
    "data = [{ \"_id\": \"101\", \"name\": \"Ram\" , \"age\":\"26\" , \"city\":\"Hyserabad\"},\n",
    "        { \"_id\": \"102\", \"name\": \"Robert\",\"age\":\"28\", \"city\":\"Mumbai\"}]\n",
    "res = mycol.insert_many(data)\n",
    "print(\"data inserted .....\")\n",
    "print(mycol.inserted_ids)"
   ]
  },
  {
   "cell_type": "code",
   "execution_count": 21,
   "id": "c337214d",
   "metadata": {},
   "outputs": [
    {
     "name": "stdout",
     "output_type": "stream",
     "text": [
      "['101', '102']\n"
     ]
    }
   ],
   "source": [
    "print(res.inserted_ids)"
   ]
  },
  {
   "cell_type": "code",
   "execution_count": 23,
   "id": "a716bfc3",
   "metadata": {},
   "outputs": [
    {
     "name": "stdout",
     "output_type": "stream",
     "text": [
      "First record of collection: \n",
      "{'_id': ObjectId('68c78e0797866f69fc550b47'), 'name': 'john', 'address': 'Highway 37'}\n"
     ]
    }
   ],
   "source": [
    "print(\"First record of collection: \")\n",
    "print(mycol.find_one())"
   ]
  },
  {
   "cell_type": "code",
   "execution_count": 24,
   "id": "b92da8ae",
   "metadata": {},
   "outputs": [
    {
     "ename": "TypeError",
     "evalue": "'Collection' object is not callable. If you meant to call the 'fing' method on a 'Collection' object it is failing because no such method exists.",
     "output_type": "error",
     "traceback": [
      "\u001b[31m---------------------------------------------------------------------------\u001b[39m",
      "\u001b[31mTypeError\u001b[39m                                 Traceback (most recent call last)",
      "\u001b[36mCell\u001b[39m\u001b[36m \u001b[39m\u001b[32mIn[24]\u001b[39m\u001b[32m, line 1\u001b[39m\n\u001b[32m----> \u001b[39m\u001b[32m1\u001b[39m \u001b[38;5;28;01mfor\u001b[39;00m doc1 \u001b[38;5;129;01min\u001b[39;00m \u001b[43mmycol\u001b[49m\u001b[43m.\u001b[49m\u001b[43mfing\u001b[49m\u001b[43m(\u001b[49m\u001b[43m{\u001b[49m\u001b[33;43m\"\u001b[39;49m\u001b[33;43mage\u001b[39;49m\u001b[33;43m\"\u001b[39;49m\u001b[43m:\u001b[49m\n\u001b[32m      2\u001b[39m \u001b[43m                        \u001b[49m\u001b[43m{\u001b[49m\u001b[33;43m\"\u001b[39;49m\u001b[33;43m$\u001b[39;49m\u001b[33;43m\"\u001b[39;49m\u001b[43m:\u001b[49m\u001b[33;43m\"\u001b[39;49m\u001b[33;43m26\u001b[39;49m\u001b[33;43m\"\u001b[39;49m\u001b[43m}\u001b[49m\u001b[43m}\u001b[49m\u001b[43m)\u001b[49m:\n\u001b[32m      3\u001b[39m     \u001b[38;5;28mprint\u001b[39m(doc1)\n",
      "\u001b[36mFile \u001b[39m\u001b[32mc:\\Users\\16052\\AppData\\Local\\Programs\\Python\\Python313\\Lib\\site-packages\\pymongo\\synchronous\\collection.py:428\u001b[39m, in \u001b[36mCollection.__call__\u001b[39m\u001b[34m(self, *args, **kwargs)\u001b[39m\n\u001b[32m    421\u001b[39m \u001b[38;5;28;01mif\u001b[39;00m \u001b[33m\"\u001b[39m\u001b[33m.\u001b[39m\u001b[33m\"\u001b[39m \u001b[38;5;129;01mnot\u001b[39;00m \u001b[38;5;129;01min\u001b[39;00m \u001b[38;5;28mself\u001b[39m._name:\n\u001b[32m    422\u001b[39m     \u001b[38;5;28;01mraise\u001b[39;00m \u001b[38;5;167;01mTypeError\u001b[39;00m(\n\u001b[32m    423\u001b[39m         \u001b[33mf\u001b[39m\u001b[33m\"\u001b[39m\u001b[33m'\u001b[39m\u001b[38;5;132;01m{\u001b[39;00m\u001b[38;5;28mtype\u001b[39m(\u001b[38;5;28mself\u001b[39m).\u001b[34m__name__\u001b[39m\u001b[38;5;132;01m}\u001b[39;00m\u001b[33m'\u001b[39m\u001b[33m object is not callable. If you \u001b[39m\u001b[33m\"\u001b[39m\n\u001b[32m    424\u001b[39m         \u001b[33m\"\u001b[39m\u001b[33mmeant to call the \u001b[39m\u001b[33m'\u001b[39m\u001b[38;5;132;01m%s\u001b[39;00m\u001b[33m'\u001b[39m\u001b[33m method on a \u001b[39m\u001b[33m'\u001b[39m\u001b[33mDatabase\u001b[39m\u001b[33m'\u001b[39m\u001b[33m \u001b[39m\u001b[33m\"\u001b[39m\n\u001b[32m    425\u001b[39m         \u001b[33m\"\u001b[39m\u001b[33mobject it is failing because no such method \u001b[39m\u001b[33m\"\u001b[39m\n\u001b[32m    426\u001b[39m         \u001b[33m\"\u001b[39m\u001b[33mexists.\u001b[39m\u001b[33m\"\u001b[39m % \u001b[38;5;28mself\u001b[39m._name\n\u001b[32m    427\u001b[39m     )\n\u001b[32m--> \u001b[39m\u001b[32m428\u001b[39m \u001b[38;5;28;01mraise\u001b[39;00m \u001b[38;5;167;01mTypeError\u001b[39;00m(\n\u001b[32m    429\u001b[39m     \u001b[33mf\u001b[39m\u001b[33m\"\u001b[39m\u001b[33m'\u001b[39m\u001b[38;5;132;01m{\u001b[39;00m\u001b[38;5;28mtype\u001b[39m(\u001b[38;5;28mself\u001b[39m).\u001b[34m__name__\u001b[39m\u001b[38;5;132;01m}\u001b[39;00m\u001b[33m'\u001b[39m\u001b[33m object is not callable. If you meant to \u001b[39m\u001b[33m\"\u001b[39m\n\u001b[32m    430\u001b[39m     \u001b[33mf\u001b[39m\u001b[33m\"\u001b[39m\u001b[33mcall the \u001b[39m\u001b[33m'\u001b[39m\u001b[33m%s\u001b[39m\u001b[33m'\u001b[39m\u001b[33m method on a \u001b[39m\u001b[33m'\u001b[39m\u001b[38;5;132;01m{\u001b[39;00m\u001b[38;5;28mtype\u001b[39m(\u001b[38;5;28mself\u001b[39m).\u001b[34m__name__\u001b[39m\u001b[38;5;132;01m}\u001b[39;00m\u001b[33m'\u001b[39m\u001b[33m object it is \u001b[39m\u001b[33m\"\u001b[39m\n\u001b[32m    431\u001b[39m     \u001b[33m\"\u001b[39m\u001b[33mfailing because no such method exists.\u001b[39m\u001b[33m\"\u001b[39m % \u001b[38;5;28mself\u001b[39m._name.split(\u001b[33m\"\u001b[39m\u001b[33m.\u001b[39m\u001b[33m\"\u001b[39m)[-\u001b[32m1\u001b[39m]\n\u001b[32m    432\u001b[39m )\n",
      "\u001b[31mTypeError\u001b[39m: 'Collection' object is not callable. If you meant to call the 'fing' method on a 'Collection' object it is failing because no such method exists."
     ]
    }
   ],
   "source": [
    "for doc1 in mycol.fing({\"age\":\n",
    "                        {\"$\":\"26\"}}):\n",
    "    print(doc1)\n",
    "   "
   ]
  },
  {
   "cell_type": "code",
   "execution_count": null,
   "id": "3de028b0",
   "metadata": {},
   "outputs": [],
   "source": [
    "for doc1 in mycol.fing({\"age\":\n",
    "                        {\"$\":\"26\"}}):\n",
    "    print(doc1)\n",
    "   "
   ]
  },
  {
   "cell_type": "code",
   "execution_count": null,
   "id": "f89e224f",
   "metadata": {},
   "outputs": [],
   "source": [
    "for doc2 in mycol.find({\"age\":{\"$\":\"26\"}}):\n",
    "    print(doc2)"
   ]
  },
  {
   "cell_type": "code",
   "execution_count": null,
   "id": "2bd189c3",
   "metadata": {},
   "outputs": [],
   "source": [
    "for doc2 in mycol.find().sort(\"age\", -1):\n",
    "    print(doc2)"
   ]
  },
  {
   "cell_type": "code",
   "execution_count": null,
   "id": "286df9d8",
   "metadata": {},
   "outputs": [],
   "source": [
    "mycol.delete_one({\"_id\": \"101\"})"
   ]
  },
  {
   "cell_type": "code",
   "execution_count": null,
   "id": "16fdaa05",
   "metadata": {},
   "outputs": [],
   "source": [
    "for doc2 in mycol.find():\n",
    "    print(doc2)"
   ]
  },
  {
   "cell_type": "code",
   "execution_count": null,
   "id": "e966ee7d",
   "metadata": {},
   "outputs": [],
   "source": [
    "mycol.delete_many({\"age\":{\"$gte\":\"26\"}})"
   ]
  },
  {
   "cell_type": "code",
   "execution_count": null,
   "id": "7ad5a147",
   "metadata": {},
   "outputs": [],
   "source": [
    "mycol.drop()"
   ]
  },
  {
   "cell_type": "code",
   "execution_count": null,
   "id": "0afd8027",
   "metadata": {},
   "outputs": [],
   "source": [
    "collections = mydb.list_collection_names()\n",
    "for coll in collections:\n",
    "    print(col1)"
   ]
  },
  {
   "cell_type": "code",
   "execution_count": null,
   "id": "c8fecbf8",
   "metadata": {},
   "outputs": [],
   "source": [
    "mycol.update_one({\"_id\": \"102\"}, {\"$set\":{\"city\":\"vizag\"}})"
   ]
  },
  {
   "cell_type": "code",
   "execution_count": null,
   "id": "a41eb9bf",
   "metadata": {},
   "outputs": [],
   "source": [
    "for doc2 in mycol.find().limit(3):\n",
    "    print(doc2)"
   ]
  },
  {
   "cell_type": "code",
   "execution_count": null,
   "id": "8abfea51",
   "metadata": {},
   "outputs": [],
   "source": []
  }
 ],
 "metadata": {
  "kernelspec": {
   "display_name": "Python 3",
   "language": "python",
   "name": "python3"
  },
  "language_info": {
   "codemirror_mode": {
    "name": "ipython",
    "version": 3
   },
   "file_extension": ".py",
   "mimetype": "text/x-python",
   "name": "python",
   "nbconvert_exporter": "python",
   "pygments_lexer": "ipython3",
   "version": "3.13.2"
  }
 },
 "nbformat": 4,
 "nbformat_minor": 5
}
